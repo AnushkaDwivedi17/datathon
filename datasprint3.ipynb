{
  "nbformat": 4,
  "nbformat_minor": 0,
  "metadata": {
    "colab": {
      "name": "datasprint3.ipynb",
      "provenance": [],
      "include_colab_link": true
    },
    "kernelspec": {
      "name": "python3",
      "display_name": "Python 3"
    }
  },
  "cells": [
    {
      "cell_type": "markdown",
      "metadata": {
        "id": "view-in-github",
        "colab_type": "text"
      },
      "source": [
        "<a href=\"https://colab.research.google.com/github/AnushkaDwivedi17/datathon/blob/master/datasprint3.ipynb\" target=\"_parent\"><img src=\"https://colab.research.google.com/assets/colab-badge.svg\" alt=\"Open In Colab\"/></a>"
      ]
    },
    {
      "cell_type": "code",
      "metadata": {
        "id": "US8WVmWDMCRL",
        "colab_type": "code",
        "colab": {}
      },
      "source": [
        "#importing libraries\n",
        "import pandas as pd\n",
        "import numpy as np\n"
      ],
      "execution_count": 1,
      "outputs": []
    },
    {
      "cell_type": "code",
      "metadata": {
        "id": "vi1pILf5MhnD",
        "colab_type": "code",
        "colab": {}
      },
      "source": [
        "#reading dataset from github and converting into pandas's dataframe\n",
        "abalone_data  = pd.read_csv(\"https://raw.githubusercontent.com/dphi-official/Datasets/master/abalone_data/training_set_label.csv\" )"
      ],
      "execution_count": 2,
      "outputs": []
    },
    {
      "cell_type": "code",
      "metadata": {
        "id": "aEIqmyzFM3yq",
        "colab_type": "code",
        "colab": {
          "base_uri": "https://localhost:8080/",
          "height": 402
        },
        "outputId": "0255ed8f-7f78-4351-8b16-aa64e5d1b2aa"
      },
      "source": [
        "#viewing the dataset\n",
        "abalone_data"
      ],
      "execution_count": 3,
      "outputs": [
        {
          "output_type": "execute_result",
          "data": {
            "text/html": [
              "<div>\n",
              "<style scoped>\n",
              "    .dataframe tbody tr th:only-of-type {\n",
              "        vertical-align: middle;\n",
              "    }\n",
              "\n",
              "    .dataframe tbody tr th {\n",
              "        vertical-align: top;\n",
              "    }\n",
              "\n",
              "    .dataframe thead th {\n",
              "        text-align: right;\n",
              "    }\n",
              "</style>\n",
              "<table border=\"1\" class=\"dataframe\">\n",
              "  <thead>\n",
              "    <tr style=\"text-align: right;\">\n",
              "      <th></th>\n",
              "      <th>Sex</th>\n",
              "      <th>Length</th>\n",
              "      <th>Diameter</th>\n",
              "      <th>Height</th>\n",
              "      <th>Whole weight</th>\n",
              "      <th>Shucked weight</th>\n",
              "      <th>Viscera weight</th>\n",
              "      <th>Shell weight</th>\n",
              "      <th>Rings</th>\n",
              "    </tr>\n",
              "  </thead>\n",
              "  <tbody>\n",
              "    <tr>\n",
              "      <th>0</th>\n",
              "      <td>F</td>\n",
              "      <td>0.525</td>\n",
              "      <td>0.400</td>\n",
              "      <td>0.135</td>\n",
              "      <td>0.7140</td>\n",
              "      <td>0.3180</td>\n",
              "      <td>0.1380</td>\n",
              "      <td>0.2080</td>\n",
              "      <td>10</td>\n",
              "    </tr>\n",
              "    <tr>\n",
              "      <th>1</th>\n",
              "      <td>F</td>\n",
              "      <td>0.445</td>\n",
              "      <td>0.325</td>\n",
              "      <td>0.125</td>\n",
              "      <td>0.4550</td>\n",
              "      <td>0.1785</td>\n",
              "      <td>0.1125</td>\n",
              "      <td>0.1400</td>\n",
              "      <td>9</td>\n",
              "    </tr>\n",
              "    <tr>\n",
              "      <th>2</th>\n",
              "      <td>M</td>\n",
              "      <td>0.710</td>\n",
              "      <td>0.540</td>\n",
              "      <td>0.165</td>\n",
              "      <td>1.9590</td>\n",
              "      <td>0.7665</td>\n",
              "      <td>0.2610</td>\n",
              "      <td>0.7800</td>\n",
              "      <td>18</td>\n",
              "    </tr>\n",
              "    <tr>\n",
              "      <th>3</th>\n",
              "      <td>F</td>\n",
              "      <td>0.680</td>\n",
              "      <td>0.580</td>\n",
              "      <td>0.200</td>\n",
              "      <td>1.7870</td>\n",
              "      <td>0.5850</td>\n",
              "      <td>0.4530</td>\n",
              "      <td>0.6000</td>\n",
              "      <td>19</td>\n",
              "    </tr>\n",
              "    <tr>\n",
              "      <th>4</th>\n",
              "      <td>M</td>\n",
              "      <td>0.605</td>\n",
              "      <td>0.470</td>\n",
              "      <td>0.160</td>\n",
              "      <td>1.1735</td>\n",
              "      <td>0.4975</td>\n",
              "      <td>0.2405</td>\n",
              "      <td>0.3450</td>\n",
              "      <td>12</td>\n",
              "    </tr>\n",
              "    <tr>\n",
              "      <th>...</th>\n",
              "      <td>...</td>\n",
              "      <td>...</td>\n",
              "      <td>...</td>\n",
              "      <td>...</td>\n",
              "      <td>...</td>\n",
              "      <td>...</td>\n",
              "      <td>...</td>\n",
              "      <td>...</td>\n",
              "      <td>...</td>\n",
              "    </tr>\n",
              "    <tr>\n",
              "      <th>3127</th>\n",
              "      <td>M</td>\n",
              "      <td>0.415</td>\n",
              "      <td>0.315</td>\n",
              "      <td>0.120</td>\n",
              "      <td>0.4015</td>\n",
              "      <td>0.1990</td>\n",
              "      <td>0.0870</td>\n",
              "      <td>0.0970</td>\n",
              "      <td>8</td>\n",
              "    </tr>\n",
              "    <tr>\n",
              "      <th>3128</th>\n",
              "      <td>I</td>\n",
              "      <td>0.325</td>\n",
              "      <td>0.240</td>\n",
              "      <td>0.070</td>\n",
              "      <td>0.1520</td>\n",
              "      <td>0.0565</td>\n",
              "      <td>0.0305</td>\n",
              "      <td>0.0540</td>\n",
              "      <td>8</td>\n",
              "    </tr>\n",
              "    <tr>\n",
              "      <th>3129</th>\n",
              "      <td>M</td>\n",
              "      <td>0.565</td>\n",
              "      <td>0.455</td>\n",
              "      <td>0.155</td>\n",
              "      <td>0.9355</td>\n",
              "      <td>0.4210</td>\n",
              "      <td>0.1830</td>\n",
              "      <td>0.2600</td>\n",
              "      <td>11</td>\n",
              "    </tr>\n",
              "    <tr>\n",
              "      <th>3130</th>\n",
              "      <td>M</td>\n",
              "      <td>0.610</td>\n",
              "      <td>0.485</td>\n",
              "      <td>0.145</td>\n",
              "      <td>1.3305</td>\n",
              "      <td>0.7830</td>\n",
              "      <td>0.2255</td>\n",
              "      <td>0.2865</td>\n",
              "      <td>9</td>\n",
              "    </tr>\n",
              "    <tr>\n",
              "      <th>3131</th>\n",
              "      <td>F</td>\n",
              "      <td>0.655</td>\n",
              "      <td>0.505</td>\n",
              "      <td>0.190</td>\n",
              "      <td>1.3485</td>\n",
              "      <td>0.5935</td>\n",
              "      <td>0.2745</td>\n",
              "      <td>0.4250</td>\n",
              "      <td>12</td>\n",
              "    </tr>\n",
              "  </tbody>\n",
              "</table>\n",
              "<p>3132 rows × 9 columns</p>\n",
              "</div>"
            ],
            "text/plain": [
              "     Sex  Length  Diameter  ...  Viscera weight  Shell weight  Rings\n",
              "0      F   0.525     0.400  ...          0.1380        0.2080     10\n",
              "1      F   0.445     0.325  ...          0.1125        0.1400      9\n",
              "2      M   0.710     0.540  ...          0.2610        0.7800     18\n",
              "3      F   0.680     0.580  ...          0.4530        0.6000     19\n",
              "4      M   0.605     0.470  ...          0.2405        0.3450     12\n",
              "...   ..     ...       ...  ...             ...           ...    ...\n",
              "3127   M   0.415     0.315  ...          0.0870        0.0970      8\n",
              "3128   I   0.325     0.240  ...          0.0305        0.0540      8\n",
              "3129   M   0.565     0.455  ...          0.1830        0.2600     11\n",
              "3130   M   0.610     0.485  ...          0.2255        0.2865      9\n",
              "3131   F   0.655     0.505  ...          0.2745        0.4250     12\n",
              "\n",
              "[3132 rows x 9 columns]"
            ]
          },
          "metadata": {
            "tags": []
          },
          "execution_count": 3
        }
      ]
    },
    {
      "cell_type": "code",
      "metadata": {
        "id": "xZiQhepYNc6Q",
        "colab_type": "code",
        "colab": {
          "base_uri": "https://localhost:8080/",
          "height": 34
        },
        "outputId": "68cf226c-8a1c-4999-9937-9277bf3e0d89"
      },
      "source": [
        "len(abalone_data)"
      ],
      "execution_count": 4,
      "outputs": [
        {
          "output_type": "execute_result",
          "data": {
            "text/plain": [
              "3132"
            ]
          },
          "metadata": {
            "tags": []
          },
          "execution_count": 4
        }
      ]
    },
    {
      "cell_type": "code",
      "metadata": {
        "id": "D4T20kHpQYjB",
        "colab_type": "code",
        "colab": {
          "base_uri": "https://localhost:8080/",
          "height": 67
        },
        "outputId": "f6f3c432-9062-4293-991e-88c770b21ae4"
      },
      "source": [
        "abalone_data.columns"
      ],
      "execution_count": 5,
      "outputs": [
        {
          "output_type": "execute_result",
          "data": {
            "text/plain": [
              "Index(['Sex', 'Length', 'Diameter', 'Height', 'Whole weight', 'Shucked weight',\n",
              "       'Viscera weight', 'Shell weight', 'Rings'],\n",
              "      dtype='object')"
            ]
          },
          "metadata": {
            "tags": []
          },
          "execution_count": 5
        }
      ]
    },
    {
      "cell_type": "code",
      "metadata": {
        "id": "gWS7F5_gF8UT",
        "colab_type": "code",
        "colab": {
          "base_uri": "https://localhost:8080/",
          "height": 284
        },
        "outputId": "af185b70-460f-45c5-d851-1a58169ca2a8"
      },
      "source": [
        "abalone_data.describe()"
      ],
      "execution_count": 7,
      "outputs": [
        {
          "output_type": "execute_result",
          "data": {
            "text/html": [
              "<div>\n",
              "<style scoped>\n",
              "    .dataframe tbody tr th:only-of-type {\n",
              "        vertical-align: middle;\n",
              "    }\n",
              "\n",
              "    .dataframe tbody tr th {\n",
              "        vertical-align: top;\n",
              "    }\n",
              "\n",
              "    .dataframe thead th {\n",
              "        text-align: right;\n",
              "    }\n",
              "</style>\n",
              "<table border=\"1\" class=\"dataframe\">\n",
              "  <thead>\n",
              "    <tr style=\"text-align: right;\">\n",
              "      <th></th>\n",
              "      <th>Length</th>\n",
              "      <th>Diameter</th>\n",
              "      <th>Height</th>\n",
              "      <th>Whole weight</th>\n",
              "      <th>Shucked weight</th>\n",
              "      <th>Viscera weight</th>\n",
              "      <th>Shell weight</th>\n",
              "      <th>Rings</th>\n",
              "    </tr>\n",
              "  </thead>\n",
              "  <tbody>\n",
              "    <tr>\n",
              "      <th>count</th>\n",
              "      <td>3132.000000</td>\n",
              "      <td>3132.000000</td>\n",
              "      <td>3132.000000</td>\n",
              "      <td>3132.00000</td>\n",
              "      <td>3132.000000</td>\n",
              "      <td>3132.000000</td>\n",
              "      <td>3132.000000</td>\n",
              "      <td>3132.000000</td>\n",
              "    </tr>\n",
              "    <tr>\n",
              "      <th>mean</th>\n",
              "      <td>0.523707</td>\n",
              "      <td>0.407952</td>\n",
              "      <td>0.139277</td>\n",
              "      <td>0.82867</td>\n",
              "      <td>0.359229</td>\n",
              "      <td>0.180731</td>\n",
              "      <td>0.239159</td>\n",
              "      <td>9.947957</td>\n",
              "    </tr>\n",
              "    <tr>\n",
              "      <th>std</th>\n",
              "      <td>0.119891</td>\n",
              "      <td>0.099336</td>\n",
              "      <td>0.038991</td>\n",
              "      <td>0.49063</td>\n",
              "      <td>0.221946</td>\n",
              "      <td>0.109924</td>\n",
              "      <td>0.139040</td>\n",
              "      <td>3.230252</td>\n",
              "    </tr>\n",
              "    <tr>\n",
              "      <th>min</th>\n",
              "      <td>0.110000</td>\n",
              "      <td>0.090000</td>\n",
              "      <td>0.000000</td>\n",
              "      <td>0.00800</td>\n",
              "      <td>0.002500</td>\n",
              "      <td>0.000500</td>\n",
              "      <td>0.003000</td>\n",
              "      <td>2.000000</td>\n",
              "    </tr>\n",
              "    <tr>\n",
              "      <th>25%</th>\n",
              "      <td>0.450000</td>\n",
              "      <td>0.350000</td>\n",
              "      <td>0.115000</td>\n",
              "      <td>0.44150</td>\n",
              "      <td>0.185375</td>\n",
              "      <td>0.093375</td>\n",
              "      <td>0.130000</td>\n",
              "      <td>8.000000</td>\n",
              "    </tr>\n",
              "    <tr>\n",
              "      <th>50%</th>\n",
              "      <td>0.545000</td>\n",
              "      <td>0.425000</td>\n",
              "      <td>0.140000</td>\n",
              "      <td>0.79950</td>\n",
              "      <td>0.335500</td>\n",
              "      <td>0.170000</td>\n",
              "      <td>0.235000</td>\n",
              "      <td>10.000000</td>\n",
              "    </tr>\n",
              "    <tr>\n",
              "      <th>75%</th>\n",
              "      <td>0.615000</td>\n",
              "      <td>0.480000</td>\n",
              "      <td>0.165000</td>\n",
              "      <td>1.15300</td>\n",
              "      <td>0.499500</td>\n",
              "      <td>0.252500</td>\n",
              "      <td>0.330000</td>\n",
              "      <td>11.000000</td>\n",
              "    </tr>\n",
              "    <tr>\n",
              "      <th>max</th>\n",
              "      <td>0.815000</td>\n",
              "      <td>0.650000</td>\n",
              "      <td>0.515000</td>\n",
              "      <td>2.82550</td>\n",
              "      <td>1.488000</td>\n",
              "      <td>0.760000</td>\n",
              "      <td>1.005000</td>\n",
              "      <td>29.000000</td>\n",
              "    </tr>\n",
              "  </tbody>\n",
              "</table>\n",
              "</div>"
            ],
            "text/plain": [
              "            Length     Diameter  ...  Shell weight        Rings\n",
              "count  3132.000000  3132.000000  ...   3132.000000  3132.000000\n",
              "mean      0.523707     0.407952  ...      0.239159     9.947957\n",
              "std       0.119891     0.099336  ...      0.139040     3.230252\n",
              "min       0.110000     0.090000  ...      0.003000     2.000000\n",
              "25%       0.450000     0.350000  ...      0.130000     8.000000\n",
              "50%       0.545000     0.425000  ...      0.235000    10.000000\n",
              "75%       0.615000     0.480000  ...      0.330000    11.000000\n",
              "max       0.815000     0.650000  ...      1.005000    29.000000\n",
              "\n",
              "[8 rows x 8 columns]"
            ]
          },
          "metadata": {
            "tags": []
          },
          "execution_count": 7
        }
      ]
    },
    {
      "cell_type": "code",
      "metadata": {
        "id": "wXqjPFQiF_6V",
        "colab_type": "code",
        "colab": {
          "base_uri": "https://localhost:8080/",
          "height": 286
        },
        "outputId": "35d97c69-83c0-4c89-9d7b-444bbade6ddd"
      },
      "source": [
        "abalone_data.info()"
      ],
      "execution_count": 8,
      "outputs": [
        {
          "output_type": "stream",
          "text": [
            "<class 'pandas.core.frame.DataFrame'>\n",
            "RangeIndex: 3132 entries, 0 to 3131\n",
            "Data columns (total 9 columns):\n",
            " #   Column          Non-Null Count  Dtype  \n",
            "---  ------          --------------  -----  \n",
            " 0   Sex             3132 non-null   object \n",
            " 1   Length          3132 non-null   float64\n",
            " 2   Diameter        3132 non-null   float64\n",
            " 3   Height          3132 non-null   float64\n",
            " 4   Whole weight    3132 non-null   float64\n",
            " 5   Shucked weight  3132 non-null   float64\n",
            " 6   Viscera weight  3132 non-null   float64\n",
            " 7   Shell weight    3132 non-null   float64\n",
            " 8   Rings           3132 non-null   int64  \n",
            "dtypes: float64(7), int64(1), object(1)\n",
            "memory usage: 220.3+ KB\n"
          ],
          "name": "stdout"
        }
      ]
    },
    {
      "cell_type": "code",
      "metadata": {
        "id": "w9J43eVfGQ4x",
        "colab_type": "code",
        "colab": {
          "base_uri": "https://localhost:8080/",
          "height": 70
        },
        "outputId": "86dbf541-96c7-40d3-af43-afccad83fe69"
      },
      "source": [
        "import matplotlib.pyplot as plt\n",
        "import seaborn as sea"
      ],
      "execution_count": 9,
      "outputs": [
        {
          "output_type": "stream",
          "text": [
            "/usr/local/lib/python3.6/dist-packages/statsmodels/tools/_testing.py:19: FutureWarning: pandas.util.testing is deprecated. Use the functions in the public API at pandas.testing instead.\n",
            "  import pandas.util.testing as tm\n"
          ],
          "name": "stderr"
        }
      ]
    },
    {
      "cell_type": "code",
      "metadata": {
        "id": "s9h21cafGrc4",
        "colab_type": "code",
        "colab": {
          "base_uri": "https://localhost:8080/",
          "height": 185
        },
        "outputId": "4b3cdfd6-850c-4cb5-b709-98cb448bcf3c"
      },
      "source": [
        "abalone_data.isna().sum()"
      ],
      "execution_count": 12,
      "outputs": [
        {
          "output_type": "execute_result",
          "data": {
            "text/plain": [
              "Sex               0\n",
              "Length            0\n",
              "Diameter          0\n",
              "Height            0\n",
              "Whole weight      0\n",
              "Shucked weight    0\n",
              "Viscera weight    0\n",
              "Shell weight      0\n",
              "Rings             0\n",
              "dtype: int64"
            ]
          },
          "metadata": {
            "tags": []
          },
          "execution_count": 12
        }
      ]
    },
    {
      "cell_type": "code",
      "metadata": {
        "id": "kxNgAu33GddO",
        "colab_type": "code",
        "colab": {
          "base_uri": "https://localhost:8080/",
          "height": 356
        },
        "outputId": "e746120c-cca2-483a-8fdd-bc242fdedef8"
      },
      "source": [
        "sea.heatmap(abalone_data.isna())"
      ],
      "execution_count": 10,
      "outputs": [
        {
          "output_type": "execute_result",
          "data": {
            "text/plain": [
              "<matplotlib.axes._subplots.AxesSubplot at 0x7ff89663be10>"
            ]
          },
          "metadata": {
            "tags": []
          },
          "execution_count": 10
        },
        {
          "output_type": "display_data",
          "data": {
            "image/png": "[encoded data removed]",
            "text/plain": [
              "<Figure size 432x288 with 2 Axes>"
            ]
          },
          "metadata": {
            "tags": [],
            "needs_background": "light"
          }
        }
      ]
    },
    {
      "cell_type": "code",
      "metadata": {
        "id": "XLU5ISwjGoi6",
        "colab_type": "code",
        "colab": {
          "base_uri": "https://localhost:8080/",
          "height": 356
        },
        "outputId": "fc9cbf92-3057-4349-9fee-f8294ea948b0"
      },
      "source": [
        "sea.heatmap(abalone_data.corr())"
      ],
      "execution_count": 13,
      "outputs": [
        {
          "output_type": "execute_result",
          "data": {
            "text/plain": [
              "<matplotlib.axes._subplots.AxesSubplot at 0x7ff892a7af98>"
            ]
          },
          "metadata": {
            "tags": []
          },
          "execution_count": 13
        },
        {
          "output_type": "display_data",
          "data": {
            "image/png": "[encoded data removed]",
            "text/plain": [
              "<Figure size 432x288 with 2 Axes>"
            ]
          },
          "metadata": {
            "tags": [],
            "needs_background": "light"
          }
        }
      ]
    },
    {
      "cell_type": "code",
      "metadata": {
        "id": "ryp9c9U3HAf2",
        "colab_type": "code",
        "colab": {
          "base_uri": "https://localhost:8080/",
          "height": 34
        },
        "outputId": "32807b12-2ca7-4cfa-a70a-8f889bcb7a56"
      },
      "source": [
        "abalone_data.Sex.unique()"
      ],
      "execution_count": 15,
      "outputs": [
        {
          "output_type": "execute_result",
          "data": {
            "text/plain": [
              "array(['F', 'M', 'I'], dtype=object)"
            ]
          },
          "metadata": {
            "tags": []
          },
          "execution_count": 15
        }
      ]
    },
    {
      "cell_type": "code",
      "metadata": {
        "id": "vNoxPNfVHp2E",
        "colab_type": "code",
        "colab": {}
      },
      "source": [
        "abalone_data=pd.get_dummies(abalone_data)"
      ],
      "execution_count": 24,
      "outputs": []
    },
    {
      "cell_type": "code",
      "metadata": {
        "id": "pwJWiXP8IStQ",
        "colab_type": "code",
        "colab": {}
      },
      "source": [
        "from sklearn.preprocessing import StandardScaler"
      ],
      "execution_count": 20,
      "outputs": []
    },
    {
      "cell_type": "code",
      "metadata": {
        "id": "5JhB0SCAJPi7",
        "colab_type": "code",
        "colab": {}
      },
      "source": [
        "scaler = StandardScaler()"
      ],
      "execution_count": 21,
      "outputs": []
    },
    {
      "cell_type": "code",
      "metadata": {
        "id": "de9uM6iyJXXk",
        "colab_type": "code",
        "colab": {
          "base_uri": "https://localhost:8080/",
          "height": 34
        },
        "outputId": "ebb8a083-dc15-4ab8-b6b0-796a58ccfb34"
      },
      "source": [
        "scaler.fit(abalone_data) "
      ],
      "execution_count": 25,
      "outputs": [
        {
          "output_type": "execute_result",
          "data": {
            "text/plain": [
              "StandardScaler(copy=True, with_mean=True, with_std=True)"
            ]
          },
          "metadata": {
            "tags": []
          },
          "execution_count": 25
        }
      ]
    },
    {
      "cell_type": "code",
      "metadata": {
        "id": "7WMJeQfpJfjA",
        "colab_type": "code",
        "colab": {
          "base_uri": "https://localhost:8080/",
          "height": 296
        },
        "outputId": "2b9e4070-c8dd-423b-9b54-990be182b185"
      },
      "source": [
        "sea.distplot(abalone_data['Rings'])"
      ],
      "execution_count": 28,
      "outputs": [
        {
          "output_type": "execute_result",
          "data": {
            "text/plain": [
              "<matplotlib.axes._subplots.AxesSubplot at 0x7ff891402d68>"
            ]
          },
          "metadata": {
            "tags": []
          },
          "execution_count": 28
        },
        {
          "output_type": "display_data",
          "data": {
            "image/png": "[encoded data removed]",
            "text/plain": [
              "<Figure size 432x288 with 1 Axes>"
            ]
          },
          "metadata": {
            "tags": [],
            "needs_background": "light"
          }
        }
      ]
    },
    {
      "cell_type": "code",
      "metadata": {
        "id": "RsgMF0RbJ1FZ",
        "colab_type": "code",
        "colab": {}
      },
      "source": [
        "x=abalone_data.drop('Rings', axis = 1)\n",
        "y=abalone_data.Rings"
      ],
      "execution_count": 29,
      "outputs": []
    },
    {
      "cell_type": "code",
      "metadata": {
        "id": "opSoM_fJLCMp",
        "colab_type": "code",
        "colab": {}
      },
      "source": [
        "from sklearn.model_selection import train_test_split\n",
        "x_tr,x_ts,y_tr,y_ts=train_test_split(x,y,test_size=0.3, random_state = 42)"
      ],
      "execution_count": 30,
      "outputs": []
    },
    {
      "cell_type": "code",
      "metadata": {
        "id": "C4nNecYRLgCg",
        "colab_type": "code",
        "colab": {}
      },
      "source": [
        "from sklearn.linear_model import LinearRegression"
      ],
      "execution_count": 31,
      "outputs": []
    },
    {
      "cell_type": "code",
      "metadata": {
        "id": "hzyTpXmPLhjG",
        "colab_type": "code",
        "colab": {
          "base_uri": "https://localhost:8080/",
          "height": 34
        },
        "outputId": "6d8f3b76-c8ef-45ee-cc36-8c287cd1feb9"
      },
      "source": [
        "LR = LinearRegression(normalize=True)\n",
        "LR.fit(x_tr,y_tr)"
      ],
      "execution_count": 33,
      "outputs": [
        {
          "output_type": "execute_result",
          "data": {
            "text/plain": [
              "LinearRegression(copy_X=True, fit_intercept=True, n_jobs=None, normalize=True)"
            ]
          },
          "metadata": {
            "tags": []
          },
          "execution_count": 33
        }
      ]
    },
    {
      "cell_type": "code",
      "metadata": {
        "id": "TmhiCwyIMca_",
        "colab_type": "code",
        "colab": {
          "base_uri": "https://localhost:8080/",
          "height": 34
        },
        "outputId": "af63faad-8cc3-401d-c1f6-d8bfa7fbcd5c"
      },
      "source": [
        "LR.score(x_tr,y_tr)"
      ],
      "execution_count": 34,
      "outputs": [
        {
          "output_type": "execute_result",
          "data": {
            "text/plain": [
              "0.553739093189545"
            ]
          },
          "metadata": {
            "tags": []
          },
          "execution_count": 34
        }
      ]
    },
    {
      "cell_type": "code",
      "metadata": {
        "id": "_6vVskg2MuFm",
        "colab_type": "code",
        "colab": {}
      },
      "source": [
        "predictions = LR.predict(x_ts)"
      ],
      "execution_count": 36,
      "outputs": []
    },
    {
      "cell_type": "code",
      "metadata": {
        "id": "DB2FmwBHM9rV",
        "colab_type": "code",
        "colab": {
          "base_uri": "https://localhost:8080/",
          "height": 282
        },
        "outputId": "e28429a1-e59b-48de-8b44-09dd28e2da5d"
      },
      "source": [
        "plt.scatter(y_ts,predictions)"
      ],
      "execution_count": 37,
      "outputs": [
        {
          "output_type": "execute_result",
          "data": {
            "text/plain": [
              "<matplotlib.collections.PathCollection at 0x7ff88f120a20>"
            ]
          },
          "metadata": {
            "tags": []
          },
          "execution_count": 37
        },
        {
          "output_type": "display_data",
          "data": {
            "image/png": "[encoded data removed]",
            "text/plain": [
              "<Figure size 432x288 with 1 Axes>"
            ]
          },
          "metadata": {
            "tags": [],
            "needs_background": "light"
          }
        }
      ]
    },
    {
      "cell_type": "code",
      "metadata": {
        "id": "XB0rI8NjN4IM",
        "colab_type": "code",
        "colab": {
          "base_uri": "https://localhost:8080/",
          "height": 279
        },
        "outputId": "69be442d-a009-4bf2-92e8-57a3b982b1a1"
      },
      "source": [
        "sea.distplot((y_ts-predictions),bins=50);"
      ],
      "execution_count": 39,
      "outputs": [
        {
          "output_type": "display_data",
          "data": {
            "image/png": "[encoded data removed]",
            "text/plain": [
              "<Figure size 432x288 with 1 Axes>"
            ]
          },
          "metadata": {
            "tags": [],
            "needs_background": "light"
          }
        }
      ]
    },
    {
      "cell_type": "code",
      "metadata": {
        "id": "TBhjxw9HN-De",
        "colab_type": "code",
        "colab": {
          "base_uri": "https://localhost:8080/",
          "height": 34
        },
        "outputId": "4831a16e-35c2-490a-d67a-f2e03a9ff061"
      },
      "source": [
        "from sklearn.metrics import mean_squared_error\n",
        "print('Root Mean Squared Error is: ', np.sqrt(mean_squared_error(y_ts, predictions))) "
      ],
      "execution_count": 40,
      "outputs": [
        {
          "output_type": "stream",
          "text": [
            "Root Mean Squared Error is:  2.193277654357593\n"
          ],
          "name": "stdout"
        }
      ]
    },
    {
      "cell_type": "code",
      "metadata": {
        "id": "sCFs__EXOvL-",
        "colab_type": "code",
        "colab": {}
      },
      "source": [
        "test_data = pd.read_csv('https://raw.githubusercontent.com/dphi-official/Datasets/master/abalone_data/testing_set_label.csv')"
      ],
      "execution_count": 41,
      "outputs": []
    },
    {
      "cell_type": "code",
      "metadata": {
        "id": "rclDB5v1O8bH",
        "colab_type": "code",
        "colab": {
          "base_uri": "https://localhost:8080/",
          "height": 402
        },
        "outputId": "f3de889c-4e19-4ce7-c417-c552ae3707c3"
      },
      "source": [
        "test_data"
      ],
      "execution_count": 42,
      "outputs": [
        {
          "output_type": "execute_result",
          "data": {
            "text/html": [
              "<div>\n",
              "<style scoped>\n",
              "    .dataframe tbody tr th:only-of-type {\n",
              "        vertical-align: middle;\n",
              "    }\n",
              "\n",
              "    .dataframe tbody tr th {\n",
              "        vertical-align: top;\n",
              "    }\n",
              "\n",
              "    .dataframe thead th {\n",
              "        text-align: right;\n",
              "    }\n",
              "</style>\n",
              "<table border=\"1\" class=\"dataframe\">\n",
              "  <thead>\n",
              "    <tr style=\"text-align: right;\">\n",
              "      <th></th>\n",
              "      <th>Sex</th>\n",
              "      <th>Length</th>\n",
              "      <th>Diameter</th>\n",
              "      <th>Height</th>\n",
              "      <th>Whole weight</th>\n",
              "      <th>Shucked weight</th>\n",
              "      <th>Viscera weight</th>\n",
              "      <th>Shell weight</th>\n",
              "    </tr>\n",
              "  </thead>\n",
              "  <tbody>\n",
              "    <tr>\n",
              "      <th>0</th>\n",
              "      <td>F</td>\n",
              "      <td>0.555</td>\n",
              "      <td>0.445</td>\n",
              "      <td>0.175</td>\n",
              "      <td>1.1465</td>\n",
              "      <td>0.5510</td>\n",
              "      <td>0.2440</td>\n",
              "      <td>0.2785</td>\n",
              "    </tr>\n",
              "    <tr>\n",
              "      <th>1</th>\n",
              "      <td>I</td>\n",
              "      <td>0.360</td>\n",
              "      <td>0.270</td>\n",
              "      <td>0.090</td>\n",
              "      <td>0.2190</td>\n",
              "      <td>0.0970</td>\n",
              "      <td>0.0405</td>\n",
              "      <td>0.0650</td>\n",
              "    </tr>\n",
              "    <tr>\n",
              "      <th>2</th>\n",
              "      <td>I</td>\n",
              "      <td>0.395</td>\n",
              "      <td>0.320</td>\n",
              "      <td>0.100</td>\n",
              "      <td>0.3075</td>\n",
              "      <td>0.1490</td>\n",
              "      <td>0.0535</td>\n",
              "      <td>0.0900</td>\n",
              "    </tr>\n",
              "    <tr>\n",
              "      <th>3</th>\n",
              "      <td>F</td>\n",
              "      <td>0.585</td>\n",
              "      <td>0.450</td>\n",
              "      <td>0.170</td>\n",
              "      <td>0.8685</td>\n",
              "      <td>0.3325</td>\n",
              "      <td>0.1635</td>\n",
              "      <td>0.2700</td>\n",
              "    </tr>\n",
              "    <tr>\n",
              "      <th>4</th>\n",
              "      <td>F</td>\n",
              "      <td>0.575</td>\n",
              "      <td>0.460</td>\n",
              "      <td>0.160</td>\n",
              "      <td>1.1030</td>\n",
              "      <td>0.5380</td>\n",
              "      <td>0.2210</td>\n",
              "      <td>0.2490</td>\n",
              "    </tr>\n",
              "    <tr>\n",
              "      <th>...</th>\n",
              "      <td>...</td>\n",
              "      <td>...</td>\n",
              "      <td>...</td>\n",
              "      <td>...</td>\n",
              "      <td>...</td>\n",
              "      <td>...</td>\n",
              "      <td>...</td>\n",
              "      <td>...</td>\n",
              "    </tr>\n",
              "    <tr>\n",
              "      <th>1039</th>\n",
              "      <td>I</td>\n",
              "      <td>0.270</td>\n",
              "      <td>0.190</td>\n",
              "      <td>0.080</td>\n",
              "      <td>0.0810</td>\n",
              "      <td>0.0265</td>\n",
              "      <td>0.0195</td>\n",
              "      <td>0.0300</td>\n",
              "    </tr>\n",
              "    <tr>\n",
              "      <th>1040</th>\n",
              "      <td>I</td>\n",
              "      <td>0.520</td>\n",
              "      <td>0.395</td>\n",
              "      <td>0.115</td>\n",
              "      <td>0.6445</td>\n",
              "      <td>0.3155</td>\n",
              "      <td>0.1245</td>\n",
              "      <td>0.1860</td>\n",
              "    </tr>\n",
              "    <tr>\n",
              "      <th>1041</th>\n",
              "      <td>I</td>\n",
              "      <td>0.480</td>\n",
              "      <td>0.355</td>\n",
              "      <td>0.110</td>\n",
              "      <td>0.4495</td>\n",
              "      <td>0.2010</td>\n",
              "      <td>0.0890</td>\n",
              "      <td>0.1400</td>\n",
              "    </tr>\n",
              "    <tr>\n",
              "      <th>1042</th>\n",
              "      <td>M</td>\n",
              "      <td>0.665</td>\n",
              "      <td>0.520</td>\n",
              "      <td>0.175</td>\n",
              "      <td>1.3725</td>\n",
              "      <td>0.6060</td>\n",
              "      <td>0.3200</td>\n",
              "      <td>0.3950</td>\n",
              "    </tr>\n",
              "    <tr>\n",
              "      <th>1043</th>\n",
              "      <td>I</td>\n",
              "      <td>0.530</td>\n",
              "      <td>0.415</td>\n",
              "      <td>0.110</td>\n",
              "      <td>0.5745</td>\n",
              "      <td>0.2525</td>\n",
              "      <td>0.1235</td>\n",
              "      <td>0.1890</td>\n",
              "    </tr>\n",
              "  </tbody>\n",
              "</table>\n",
              "<p>1044 rows × 8 columns</p>\n",
              "</div>"
            ],
            "text/plain": [
              "     Sex  Length  Diameter  ...  Shucked weight  Viscera weight  Shell weight\n",
              "0      F   0.555     0.445  ...          0.5510          0.2440        0.2785\n",
              "1      I   0.360     0.270  ...          0.0970          0.0405        0.0650\n",
              "2      I   0.395     0.320  ...          0.1490          0.0535        0.0900\n",
              "3      F   0.585     0.450  ...          0.3325          0.1635        0.2700\n",
              "4      F   0.575     0.460  ...          0.5380          0.2210        0.2490\n",
              "...   ..     ...       ...  ...             ...             ...           ...\n",
              "1039   I   0.270     0.190  ...          0.0265          0.0195        0.0300\n",
              "1040   I   0.520     0.395  ...          0.3155          0.1245        0.1860\n",
              "1041   I   0.480     0.355  ...          0.2010          0.0890        0.1400\n",
              "1042   M   0.665     0.520  ...          0.6060          0.3200        0.3950\n",
              "1043   I   0.530     0.415  ...          0.2525          0.1235        0.1890\n",
              "\n",
              "[1044 rows x 8 columns]"
            ]
          },
          "metadata": {
            "tags": []
          },
          "execution_count": 42
        }
      ]
    },
    {
      "cell_type": "code",
      "metadata": {
        "id": "qocnZuwoO-qE",
        "colab_type": "code",
        "colab": {
          "base_uri": "https://localhost:8080/",
          "height": 168
        },
        "outputId": "640790a8-3acd-406f-b9af-10cc0e5c01d6"
      },
      "source": [
        "test_data.isna().sum()"
      ],
      "execution_count": 43,
      "outputs": [
        {
          "output_type": "execute_result",
          "data": {
            "text/plain": [
              "Sex               0\n",
              "Length            0\n",
              "Diameter          0\n",
              "Height            0\n",
              "Whole weight      0\n",
              "Shucked weight    0\n",
              "Viscera weight    0\n",
              "Shell weight      0\n",
              "dtype: int64"
            ]
          },
          "metadata": {
            "tags": []
          },
          "execution_count": 43
        }
      ]
    },
    {
      "cell_type": "code",
      "metadata": {
        "id": "EJuhQ2rfT19Z",
        "colab_type": "code",
        "colab": {}
      },
      "source": [
        "test_data=pd.get_dummies(test_data)"
      ],
      "execution_count": 44,
      "outputs": []
    },
    {
      "cell_type": "code",
      "metadata": {
        "id": "Eum9Wr4-UAP-",
        "colab_type": "code",
        "colab": {
          "base_uri": "https://localhost:8080/",
          "height": 34
        },
        "outputId": "4f0a9aa1-be1b-448a-a4f9-b888b91fba75"
      },
      "source": [
        "scalert = StandardScaler()\n",
        "scalert.fit(test_data) "
      ],
      "execution_count": 45,
      "outputs": [
        {
          "output_type": "execute_result",
          "data": {
            "text/plain": [
              "StandardScaler(copy=True, with_mean=True, with_std=True)"
            ]
          },
          "metadata": {
            "tags": []
          },
          "execution_count": 45
        }
      ]
    },
    {
      "cell_type": "code",
      "metadata": {
        "id": "q6mxcteuUlH4",
        "colab_type": "code",
        "colab": {
          "base_uri": "https://localhost:8080/",
          "height": 17
        },
        "outputId": "e47084f8-e611-4d3a-c2d4-96905951c98f"
      },
      "source": [
        "res = pd.DataFrame(target) # target are nothing but the final predictions of your model on input features of your new unseen test data\n",
        "res.index = test_data.index # its important for comparison. Here \"test_new\" is your new test dataset\n",
        "res.columns = [\"prediction\"]\n",
        "\n",
        "# To download the csv file locally\n",
        "from google.colab import files\n",
        "res.to_csv('submission.csv')         \n",
        "files.download('submission.csv')"
      ],
      "execution_count": 47,
      "outputs": [
        {
          "output_type": "display_data",
          "data": {
            "application/javascript": [
              "\n",
              "    async function download(id, filename, size) {\n",
              "      if (!google.colab.kernel.accessAllowed) {\n",
              "        return;\n",
              "      }\n",
              "      const div = document.createElement('div');\n",
              "      const label = document.createElement('label');\n",
              "      label.textContent = `Downloading \"${filename}\": `;\n",
              "      div.appendChild(label);\n",
              "      const progress = document.createElement('progress');\n",
              "      progress.max = size;\n",
              "      div.appendChild(progress);\n",
              "      document.body.appendChild(div);\n",
              "\n",
              "      const buffers = [];\n",
              "      let downloaded = 0;\n",
              "\n",
              "      const channel = await google.colab.kernel.comms.open(id);\n",
              "      // Send a message to notify the kernel that we're ready.\n",
              "      channel.send({})\n",
              "\n",
              "      for await (const message of channel.messages) {\n",
              "        // Send a message to notify the kernel that we're ready.\n",
              "        channel.send({})\n",
              "        if (message.buffers) {\n",
              "          for (const buffer of message.buffers) {\n",
              "            buffers.push(buffer);\n",
              "            downloaded += buffer.byteLength;\n",
              "            progress.value = downloaded;\n",
              "          }\n",
              "        }\n",
              "      }\n",
              "      const blob = new Blob(buffers, {type: 'application/binary'});\n",
              "      const a = document.createElement('a');\n",
              "      a.href = window.URL.createObjectURL(blob);\n",
              "      a.download = filename;\n",
              "      div.appendChild(a);\n",
              "      a.click();\n",
              "      div.remove();\n",
              "    }\n",
              "  "
            ],
            "text/plain": [
              "<IPython.core.display.Javascript object>"
            ]
          },
          "metadata": {
            "tags": []
          }
        },
        {
          "output_type": "display_data",
          "data": {
            "application/javascript": [
              "download(\"download_b8d041d5-1873-4c22-95ff-c72d793fb53c\", \"submission.csv\", 23201)"
            ],
            "text/plain": [
              "<IPython.core.display.Javascript object>"
            ]
          },
          "metadata": {
            "tags": []
          }
        }
      ]
    },
    {
      "cell_type": "code",
      "metadata": {
        "id": "62afrHZOmduW",
        "colab_type": "code",
        "colab": {
          "base_uri": "https://localhost:8080/",
          "height": 134
        },
        "outputId": "37d4fbd5-9679-400e-a74b-dd13947cb633"
      },
      "source": [
        "from sklearn.ensemble import RandomForestRegressor\n",
        "rf = RandomForestRegressor(n_estimators = 1000, random_state = 20)\n",
        "rf.fit(x_tr, y_tr)"
      ],
      "execution_count": 49,
      "outputs": [
        {
          "output_type": "execute_result",
          "data": {
            "text/plain": [
              "RandomForestRegressor(bootstrap=True, ccp_alpha=0.0, criterion='mse',\n",
              "                      max_depth=None, max_features='auto', max_leaf_nodes=None,\n",
              "                      max_samples=None, min_impurity_decrease=0.0,\n",
              "                      min_impurity_split=None, min_samples_leaf=1,\n",
              "                      min_samples_split=2, min_weight_fraction_leaf=0.0,\n",
              "                      n_estimators=1000, n_jobs=None, oob_score=False,\n",
              "                      random_state=20, verbose=0, warm_start=False)"
            ]
          },
          "metadata": {
            "tags": []
          },
          "execution_count": 49
        }
      ]
    },
    {
      "cell_type": "code",
      "metadata": {
        "id": "uvgWDDQEm7K6",
        "colab_type": "code",
        "colab": {
          "base_uri": "https://localhost:8080/",
          "height": 34
        },
        "outputId": "f75e5e70-36d2-4ac6-80e9-d0797b927d32"
      },
      "source": [
        "rf.score(x_tr,y_tr)"
      ],
      "execution_count": 50,
      "outputs": [
        {
          "output_type": "execute_result",
          "data": {
            "text/plain": [
              "0.9373586433817456"
            ]
          },
          "metadata": {
            "tags": []
          },
          "execution_count": 50
        }
      ]
    },
    {
      "cell_type": "code",
      "metadata": {
        "id": "KbajKSi3nC6F",
        "colab_type": "code",
        "colab": {}
      },
      "source": [
        "pred = LR.predict(x_ts)"
      ],
      "execution_count": 51,
      "outputs": []
    },
    {
      "cell_type": "code",
      "metadata": {
        "id": "QzbIaJr9nM2c",
        "colab_type": "code",
        "colab": {
          "base_uri": "https://localhost:8080/",
          "height": 34
        },
        "outputId": "1eb5be6d-a921-4614-aed8-00d70fd97bfc"
      },
      "source": [
        "print('Root Mean Squared Error is: ', np.sqrt(mean_squared_error(y_ts, pred))) "
      ],
      "execution_count": 52,
      "outputs": [
        {
          "output_type": "stream",
          "text": [
            "Root Mean Squared Error is:  2.193277654357593\n"
          ],
          "name": "stdout"
        }
      ]
    },
    {
      "cell_type": "code",
      "metadata": {
        "id": "Nw4eHC34nP-P",
        "colab_type": "code",
        "colab": {}
      },
      "source": [
        "tar=rf.predict(test_data)"
      ],
      "execution_count": 53,
      "outputs": []
    },
    {
      "cell_type": "code",
      "metadata": {
        "id": "2TJlUFEunf7Y",
        "colab_type": "code",
        "colab": {
          "base_uri": "https://localhost:8080/",
          "height": 54
        },
        "outputId": "d410a43a-0a8d-466c-d766-8bc74b859afd"
      },
      "source": [
        "for i in tar:\n",
        "  print(i,end=\",\")"
      ],
      "execution_count": 54,
      "outputs": [
        {
          "output_type": "stream",
          "text": [
            "10.089,6.405,7.195,12.054,9.084,14.25,9.976,11.205,10.535,9.139,10.834,10.684,8.937,11.382,11.946,10.314,9.433,8.009,5.725,12.436,9.253,10.893,10.565,10.235,11.75,13.613,12.06,7.965,12.446,9.201,10.111,10.939,11.029,10.673,8.23,6.446,12.494,11.264,8.294,9.843,7.862,8.833,5.825,10.67,10.299,7.543,9.874,9.785,9.281,5.512,8.519,10.162,11.601,9.185,12.356,13.66,10.392,6.279,7.19,9.232,7.895,10.345,3.641,9.689,9.172,10.11,11.891,12.728,9.132,9.874,10.267,8.067,14.597,8.977,10.205,8.893,7.341,7.464,10.069,10.82,9.453,6.229,10.827,10.794,7.233,7.384,10.505,10.77,7.133,14.407,9.782,12.789,15.919,8.479,10.392,10.437,8.778,13.023,9.308,7.087,4.645,10.641,11.804,12.683,8.12,9.657,9.567,11.341,10.593,7.748,4.048,7.059,6.54,8.103,7.57,8.677,12.758,10.127,8.124,7.71,7.502,7.049,6.739,7.124,15.585,6.652,10.566,7.072,15.082,14.577,4.081,9.033,9.991,11.774,5.749,9.097,8.604,8.861,14.54,8.022,10.9,10.491,12.6,9.043,9.374,11.644,8.209,10.331,5.97,10.679,14.381,13.793,7.877,4.68,12.482,11.636,9.038,11.139,10.417,9.594,10.95,9.694,7.574,10.451,4.758,6.782,9.747,11.118,6.047,12.309,12.523,8.875,8.274,8.938,6.232,10.297,8.555,10.349,13.356,13.661,8.633,8.617,9.671,7.488,12.88,7.281,8.355,9.146,9.645,6.783,7.613,12.783,10.371,11.702,11.777,6.489,6.093,10.286,6.933,11.022,8.861,10.052,9.557,6.611,13.026,10.252,8.879,8.629,8.73,9.175,13.635,7.098,5.88,12.238,11.367,10.463,5.968,8.818,8.628,5.678,9.793,10.062,10.268,10.063,11.0,10.157,10.325,11.098,9.29,9.14,12.123,10.326,10.709,10.429,6.321,10.901,9.998,5.629,8.003,11.524,6.003,9.122,6.994,13.32,9.321,13.908,10.235,7.741,14.232,16.141,15.169,10.857,12.692,12.461,7.528,10.542,10.494,9.637,10.676,10.698,7.583,10.991,13.988,11.055,9.288,14.059,14.195,8.424,4.815,9.977,10.291,8.159,11.548,8.338,7.13,9.601,8.458,12.016,13.436,10.951,11.487,16.552,10.773,9.103,14.465,10.865,6.077,12.994,10.431,11.176,9.404,10.262,8.055,16.104,8.953,7.788,9.357,15.506,10.261,14.685,10.228,10.046,9.074,7.249,5.333,10.652,11.866,8.727,15.504,7.106,8.901,6.304,13.347,8.706,9.088,11.085,9.042,6.8,8.06,10.707,9.929,10.852,6.988,8.421,7.89,9.514,9.541,7.222,11.962,9.669,12.486,9.036,10.002,5.464,9.447,13.351,6.828,9.161,9.265,7.852,11.035,10.507,9.104,9.057,6.665,10.211,11.152,12.696,11.191,10.43,15.229,12.497,10.202,10.839,8.901,11.065,8.476,13.421,9.397,12.331,12.672,10.192,15.866,16.002,10.558,8.19,7.332,16.311,10.327,11.851,11.217,6.87,10.639,7.651,9.358,10.297,10.17,8.85,9.211,8.911,15.447,9.849,12.543,7.291,7.821,9.494,10.775,9.66,9.483,9.835,11.026,10.582,5.086,10.163,9.091,11.739,11.014,10.317,3.486,10.189,11.034,3.781,11.984,12.999,10.075,11.0,10.288,10.595,9.186,9.035,10.082,8.117,15.987,7.617,7.276,18.241,9.62,8.506,10.012,7.75,9.787,7.91,6.782,8.173,8.159,9.941,12.364,11.059,9.348,9.747,8.153,8.364,9.276,12.132,4.89,6.169,10.749,8.94,8.442,9.433,9.098,10.536,14.859,10.443,11.932,8.457,9.403,12.858,9.172,10.108,4.072,15.844,8.722,10.994,11.844,10.255,7.358,9.506,10.386,9.101,10.541,9.482,10.148,6.889,9.523,8.258,6.861,10.557,15.012,8.451,13.082,4.113,10.42,11.182,13.46,9.244,6.436,9.225,14.013,8.875,10.31,9.629,6.778,4.63,10.135,8.625,9.371,6.386,9.346,7.417,9.517,10.15,8.487,8.4,8.479,9.389,7.16,6.678,14.792,9.249,13.903,3.966,12.994,9.007,13.944,7.994,12.909,8.516,8.04,4.475,9.119,9.571,11.129,5.729,12.008,7.13,5.949,7.568,8.839,8.505,9.055,8.91,10.67,10.652,6.269,10.437,8.616,10.175,8.091,10.512,10.419,8.917,11.722,12.31,8.434,11.919,8.62,13.396,10.936,12.345,9.437,7.816,9.41,14.393,9.079,11.126,12.388,9.422,9.943,8.411,8.788,4.153,8.872,7.258,9.237,7.274,6.334,9.058,16.761,11.626,7.631,13.488,7.927,10.702,7.867,9.989,9.975,9.823,7.699,12.283,11.998,9.088,9.576,7.081,7.188,6.693,8.019,12.082,7.545,11.512,9.289,8.308,10.635,10.598,9.636,10.663,10.594,11.839,9.39,9.362,11.19,10.681,6.795,10.262,14.745,7.171,8.146,11.674,10.532,15.763,12.157,10.485,12.092,6.969,8.543,11.05,15.086,16.858,9.6,11.677,10.203,9.248,9.193,11.094,5.515,9.085,10.94,10.186,9.282,10.024,7.921,10.307,8.998,11.12,7.033,13.894,8.424,14.838,10.825,10.429,12.659,8.001,10.871,9.24,7.397,9.082,6.754,11.84,6.196,15.627,9.895,11.26,8.74,9.783,9.79,12.882,10.761,8.794,11.774,13.18,6.13,8.486,6.779,11.411,8.468,9.776,7.685,10.474,11.732,12.479,11.205,9.522,7.952,4.131,4.593,5.355,14.698,9.524,10.193,7.662,6.965,8.294,5.717,14.83,16.664,14.026,8.482,10.564,14.968,10.573,7.944,11.059,7.14,14.095,13.941,10.154,11.024,11.046,11.694,12.693,8.561,10.545,6.637,11.499,7.053,16.207,9.906,11.019,11.824,10.525,7.089,10.947,7.104,7.514,5.733,19.043,10.076,7.093,11.829,9.792,11.045,4.219,9.328,12.912,8.405,12.288,4.091,11.909,7.594,8.99,13.382,10.386,8.692,11.808,13.921,15.815,18.672,9.481,16.919,14.426,9.77,10.356,8.674,8.716,7.767,6.845,15.334,9.663,4.749,8.713,15.257,9.97,6.821,10.0,9.93,9.459,10.808,11.603,8.353,12.321,9.098,9.957,13.634,8.254,7.813,4.653,9.873,14.618,10.082,4.817,4.581,10.211,12.107,9.262,11.949,10.039,10.406,9.047,9.025,7.405,8.451,10.451,15.78,6.444,5.823,4.148,8.708,9.171,10.484,9.079,13.159,12.964,9.166,7.98,11.244,10.792,10.166,8.808,8.319,6.156,11.486,8.214,10.366,5.967,7.073,8.09,8.866,7.401,10.891,13.075,11.396,9.001,10.244,9.114,10.615,16.987,9.05,10.613,6.131,8.673,15.085,12.625,8.116,10.159,13.577,8.789,6.283,6.6,11.382,8.379,12.367,9.5,8.209,10.713,6.705,13.981,6.513,8.804,8.002,8.955,7.273,7.823,13.119,10.836,10.384,6.243,8.836,9.032,15.786,12.043,10.475,11.272,17.461,7.432,8.598,7.487,10.993,11.41,12.507,9.282,11.319,9.403,6.819,9.082,8.962,6.88,10.871,11.051,12.371,17.284,8.634,5.131,10.314,9.029,10.561,16.274,8.802,8.398,11.776,12.985,8.447,9.126,7.731,9.95,11.981,11.755,7.438,6.911,10.224,9.39,6.796,12.971,11.578,12.766,9.288,10.657,5.596,6.754,10.577,10.187,9.777,10.908,12.643,8.318,9.823,7.213,10.367,9.94,8.801,15.956,9.296,6.151,13.375,12.864,11.33,9.877,7.083,7.351,14.315,8.569,6.973,6.841,9.806,9.532,5.837,12.15,9.315,6.417,11.182,7.572,12.729,10.049,14.108,9.689,8.879,9.258,4.35,8.392,7.582,11.774,16.991,5.539,10.253,10.92,8.268,11.641,14.195,11.027,8.577,13.354,3.954,7.125,8.267,16.777,7.522,11.301,8.955,13.359,13.48,11.875,8.318,11.825,15.848,7.474,9.322,7.887,10.805,6.298,8.064,9.986,5.82,17.491,8.888,14.098,7.329,15.039,10.564,10.574,7.901,11.297,6.648,9.087,9.165,14.337,12.014,10.276,12.528,11.012,11.943,9.101,11.861,8.85,7.759,11.418,8.196,9.117,12.06,9.539,14.234,12.01,7.438,9.077,3.018,11.249,9.132,9.769,9.937,10.779,10.298,7.221,13.279,5.409,16.956,10.591,9.324,12.173,9.983,11.987,4.404,13.689,7.929,14.127,15.466,8.628,12.49,10.444,7.185,17.306,7.548,8.072,12.058,10.922,8.925,11.976,8.264,10.747,8.494,6.536,9.883,11.825,14.767,6.01,8.709,11.681,8.756,8.407,8.85,14.048,11.29,5.927,8.626,8.41,10.446,8.542,"
          ],
          "name": "stdout"
        }
      ]
    },
    {
      "cell_type": "code",
      "metadata": {
        "id": "dkTumUdcp9Bc",
        "colab_type": "code",
        "colab": {
          "base_uri": "https://localhost:8080/",
          "height": 235
        },
        "outputId": "9c98cb71-a391-4dfd-ab86-417a83c97ace"
      },
      "source": [
        "scaler.transform(abalone_data)"
      ],
      "execution_count": 61,
      "outputs": [
        {
          "output_type": "execute_result",
          "data": {
            "text/plain": [
              "array([[ 0.01078734, -0.08006193, -0.10970449, ...,  1.4807635 ,\n",
              "        -0.69141571, -0.75545492],\n",
              "       [-0.65658952, -0.83519331, -0.36621398, ...,  1.4807635 ,\n",
              "        -0.69141571, -0.75545492],\n",
              "       [ 1.55409632,  1.32951665,  0.65982397, ..., -0.67532729,\n",
              "        -0.69141571,  1.32370572],\n",
              "       ...,\n",
              "       [ 0.34447577,  0.47370108,  0.40331449, ..., -0.67532729,\n",
              "        -0.69141571,  1.32370572],\n",
              "       [ 0.71987525,  0.77575364,  0.146805  , ..., -0.67532729,\n",
              "        -0.69141571,  1.32370572],\n",
              "       [ 1.09527473,  0.977122  ,  1.30109769, ...,  1.4807635 ,\n",
              "        -0.69141571, -0.75545492]])"
            ]
          },
          "metadata": {
            "tags": []
          },
          "execution_count": 61
        }
      ]
    },
    {
      "cell_type": "code",
      "metadata": {
        "id": "66ceWuONt2FO",
        "colab_type": "code",
        "colab": {
          "base_uri": "https://localhost:8080/",
          "height": 279
        },
        "outputId": "b982076a-0b4b-49d8-e47f-9ca2d7d8c24b"
      },
      "source": [
        "scaler.transform(test_data)"
      ],
      "execution_count": 67,
      "outputs": [
        {
          "output_type": "error",
          "ename": "ValueError",
          "evalue": "ignored",
          "traceback": [
            "\u001b[0;31m---------------------------------------------------------------------------\u001b[0m",
            "\u001b[0;31mValueError\u001b[0m                                Traceback (most recent call last)",
            "\u001b[0;32m<ipython-input-67-2dc0620a5dc7>\u001b[0m in \u001b[0;36m<module>\u001b[0;34m()\u001b[0m\n\u001b[0;32m----> 1\u001b[0;31m \u001b[0mscaler\u001b[0m\u001b[0;34m.\u001b[0m\u001b[0mtransform\u001b[0m\u001b[0;34m(\u001b[0m\u001b[0mtest_data\u001b[0m\u001b[0;34m)\u001b[0m\u001b[0;34m\u001b[0m\u001b[0;34m\u001b[0m\u001b[0m\n\u001b[0m",
            "\u001b[0;32m/usr/local/lib/python3.6/dist-packages/sklearn/preprocessing/_data.py\u001b[0m in \u001b[0;36mtransform\u001b[0;34m(self, X, copy)\u001b[0m\n\u001b[1;32m    804\u001b[0m         \u001b[0;32melse\u001b[0m\u001b[0;34m:\u001b[0m\u001b[0;34m\u001b[0m\u001b[0;34m\u001b[0m\u001b[0m\n\u001b[1;32m    805\u001b[0m             \u001b[0;32mif\u001b[0m \u001b[0mself\u001b[0m\u001b[0;34m.\u001b[0m\u001b[0mwith_mean\u001b[0m\u001b[0;34m:\u001b[0m\u001b[0;34m\u001b[0m\u001b[0;34m\u001b[0m\u001b[0m\n\u001b[0;32m--> 806\u001b[0;31m                 \u001b[0mX\u001b[0m \u001b[0;34m-=\u001b[0m \u001b[0mself\u001b[0m\u001b[0;34m.\u001b[0m\u001b[0mmean_\u001b[0m\u001b[0;34m\u001b[0m\u001b[0;34m\u001b[0m\u001b[0m\n\u001b[0m\u001b[1;32m    807\u001b[0m             \u001b[0;32mif\u001b[0m \u001b[0mself\u001b[0m\u001b[0;34m.\u001b[0m\u001b[0mwith_std\u001b[0m\u001b[0;34m:\u001b[0m\u001b[0;34m\u001b[0m\u001b[0;34m\u001b[0m\u001b[0m\n\u001b[1;32m    808\u001b[0m                 \u001b[0mX\u001b[0m \u001b[0;34m/=\u001b[0m \u001b[0mself\u001b[0m\u001b[0;34m.\u001b[0m\u001b[0mscale_\u001b[0m\u001b[0;34m\u001b[0m\u001b[0;34m\u001b[0m\u001b[0m\n",
            "\u001b[0;31mValueError\u001b[0m: operands could not be broadcast together with shapes (1044,10) (11,) (1044,10) "
          ]
        }
      ]
    },
    {
      "cell_type": "code",
      "metadata": {
        "id": "sjP-tcpOqL6n",
        "colab_type": "code",
        "colab": {
          "base_uri": "https://localhost:8080/",
          "height": 118
        },
        "outputId": "ded663d2-0e0d-42f8-d870-ff1696a0acc5"
      },
      "source": [
        "from sklearn.tree import DecisionTreeRegressor\n",
        "regr_1 = DecisionTreeRegressor(max_depth=2)\n",
        "regr_2 = DecisionTreeRegressor(max_depth=5)\n",
        "regr_1.fit(x_tr, y_tr)\n",
        "regr_2.fit(x_tr, y_tr)"
      ],
      "execution_count": 62,
      "outputs": [
        {
          "output_type": "execute_result",
          "data": {
            "text/plain": [
              "DecisionTreeRegressor(ccp_alpha=0.0, criterion='mse', max_depth=5,\n",
              "                      max_features=None, max_leaf_nodes=None,\n",
              "                      min_impurity_decrease=0.0, min_impurity_split=None,\n",
              "                      min_samples_leaf=1, min_samples_split=2,\n",
              "                      min_weight_fraction_leaf=0.0, presort='deprecated',\n",
              "                      random_state=None, splitter='best')"
            ]
          },
          "metadata": {
            "tags": []
          },
          "execution_count": 62
        }
      ]
    },
    {
      "cell_type": "code",
      "metadata": {
        "id": "_tuTxjZqsMIk",
        "colab_type": "code",
        "colab": {
          "base_uri": "https://localhost:8080/",
          "height": 295
        },
        "outputId": "f981b389-20a2-45b6-88e0-3bf8f0cfef5e"
      },
      "source": [
        "y_1 = regr_1.predict(x_ts)\n",
        "y_2 = regr_2.predict(x_ts)\n",
        "\n",
        "# Plot the results\n",
        "plt.figure()\n",
        "plt.scatter(y_1, y_ts, s=20, edgecolor=\"black\",\n",
        "            c=\"darkorange\", label=\"data\")\n",
        "plt.plot(y_ts, y_1, color=\"cornflowerblue\",\n",
        "         label=\"max_depth=2\", linewidth=2)\n",
        "plt.plot(y_ts, y_2, color=\"yellowgreen\", label=\"max_depth=5\", linewidth=2)\n",
        "plt.xlabel(\"data\")\n",
        "plt.ylabel(\"target\")\n",
        "plt.title(\"Decision Tree Regression\")\n",
        "plt.legend()\n",
        "plt.show()"
      ],
      "execution_count": 66,
      "outputs": [
        {
          "output_type": "display_data",
          "data": {
            "image/png": "[encoded data removed]",
            "text/plain": [
              "<Figure size 432x288 with 1 Axes>"
            ]
          },
          "metadata": {
            "tags": [],
            "needs_background": "light"
          }
        }
      ]
    },
    {
      "cell_type": "code",
      "metadata": {
        "id": "xu5q4yaytbUy",
        "colab_type": "code",
        "colab": {
          "base_uri": "https://localhost:8080/",
          "height": 54
        },
        "outputId": "0471c7c3-55d3-4406-de94-4ba144536367"
      },
      "source": [
        "tardt=regr_2.predict(test_data)\n",
        "for i in tardt:\n",
        "  print(i,end=\",\")"
      ],
      "execution_count": 68,
      "outputs": [
        {
          "output_type": "stream",
          "text": [
            "9.496124031007753,6.966019417475728,6.966019417475728,12.301369863013699,8.86259541984733,15.959183673469388,10.874035989717223,10.874035989717223,10.352459016393443,8.86259541984733,13.774193548387096,10.874035989717223,10.352459016393443,12.301369863013699,12.301369863013699,10.874035989717223,9.724806201550388,7.933333333333334,5.0,13.774193548387096,9.496124031007753,10.930232558139535,10.874035989717223,10.874035989717223,10.930232558139535,12.301369863013699,10.874035989717223,8.8,12.301369863013699,8.86259541984733,9.724806201550388,10.874035989717223,10.874035989717223,10.874035989717223,8.5,6.197183098591549,10.874035989717223,12.301369863013699,8.86259541984733,8.86259541984733,9.724806201550388,9.724806201550388,6.197183098591549,10.874035989717223,10.874035989717223,7.0,12.301369863013699,9.496124031007753,8.86259541984733,5.875,9.724806201550388,12.301369863013699,12.245098039215685,8.5,10.874035989717223,15.959183673469388,9.724806201550388,6.197183098591549,6.966019417475728,8.86259541984733,9.724806201550388,10.874035989717223,3.2857142857142856,12.301369863013699,9.724806201550388,10.874035989717223,10.874035989717223,13.774193548387096,9.496124031007753,12.301369863013699,10.874035989717223,6.966019417475728,10.874035989717223,9.496124031007753,9.875,8.5,6.966019417475728,8.5,9.724806201550388,9.496124031007753,9.496124031007753,6.197183098591549,10.930232558139535,10.874035989717223,7.0,7.933333333333334,10.874035989717223,10.930232558139535,6.966019417475728,12.301369863013699,9.496124031007753,12.301369863013699,15.959183673469388,7.85,9.724806201550388,10.874035989717223,9.724806201550388,10.930232558139535,9.496124031007753,6.966019417475728,4.615384615384615,12.301369863013699,10.874035989717223,10.874035989717223,7.933333333333334,9.496124031007753,8.86259541984733,10.874035989717223,10.874035989717223,7.933333333333334,4.25,6.966019417475728,6.966019417475728,7.933333333333334,6.966019417475728,8.86259541984733,9.724806201550388,10.874035989717223,6.966019417475728,7.933333333333334,7.933333333333334,6.966019417475728,6.966019417475728,7.933333333333334,16.41176470588235,6.197183098591549,12.301369863013699,6.966019417475728,15.959183673469388,12.301369863013699,4.25,8.86259541984733,10.874035989717223,10.930232558139535,5.875,8.5,7.933333333333334,8.5,12.301369863013699,8.5,10.874035989717223,10.874035989717223,12.301369863013699,10.352459016393443,8.86259541984733,12.301369863013699,7.933333333333334,10.874035989717223,6.197183098591549,10.874035989717223,12.301369863013699,12.301369863013699,7.933333333333334,4.615384615384615,12.301369863013699,9.724806201550388,8.86259541984733,10.874035989717223,10.874035989717223,9.496124031007753,10.874035989717223,10.352459016393443,7.933333333333334,9.724806201550388,5.285714285714286,6.966019417475728,10.352459016393443,10.874035989717223,6.966019417475728,12.301369863013699,13.774193548387096,8.5,9.724806201550388,8.86259541984733,6.197183098591549,10.874035989717223,7.933333333333334,10.874035989717223,12.301369863013699,12.301369863013699,8.86259541984733,9.875,10.874035989717223,6.966019417475728,12.301369863013699,7.0,8.5,9.496124031007753,9.496124031007753,6.197183098591549,7.933333333333334,10.874035989717223,10.352459016393443,12.245098039215685,10.874035989717223,6.966019417475728,6.197183098591549,10.874035989717223,6.966019417475728,9.724806201550388,9.724806201550388,10.874035989717223,9.724806201550388,6.197183098591549,10.874035989717223,10.874035989717223,9.496124031007753,8.86259541984733,8.86259541984733,9.724806201550388,15.959183673469388,6.966019417475728,6.197183098591549,13.774193548387096,10.874035989717223,10.352459016393443,5.0,7.933333333333334,9.724806201550388,5.875,10.874035989717223,10.874035989717223,9.496124031007753,10.874035989717223,10.874035989717223,10.874035989717223,9.875,9.496124031007753,9.496124031007753,9.724806201550388,12.301369863013699,10.874035989717223,10.874035989717223,10.874035989717223,6.966019417475728,10.874035989717223,9.496124031007753,6.197183098591549,7.933333333333334,12.301369863013699,5.875,9.875,6.966019417475728,15.137931034482758,9.875,12.245098039215685,10.874035989717223,7.933333333333334,15.137931034482758,12.301369863013699,15.137931034482758,10.930232558139535,10.874035989717223,10.874035989717223,8.5,10.874035989717223,10.874035989717223,9.724806201550388,10.874035989717223,8.86259541984733,7.85,9.724806201550388,12.245098039215685,10.352459016393443,12.301369863013699,12.301369863013699,16.41176470588235,8.86259541984733,4.25,12.301369863013699,10.874035989717223,8.86259541984733,12.245098039215685,7.85,6.966019417475728,9.496124031007753,9.724806201550388,9.724806201550388,15.959183673469388,10.874035989717223,10.874035989717223,15.959183673469388,10.930232558139535,8.86259541984733,12.301369863013699,10.874035989717223,6.197183098591549,10.874035989717223,10.352459016393443,12.245098039215685,10.352459016393443,9.724806201550388,7.933333333333334,15.959183673469388,9.875,7.933333333333334,9.724806201550388,12.301369863013699,10.874035989717223,12.301369863013699,10.874035989717223,10.874035989717223,8.86259541984733,6.966019417475728,5.875,10.874035989717223,10.874035989717223,7.933333333333334,12.301369863013699,6.966019417475728,8.86259541984733,6.966019417475728,10.874035989717223,8.86259541984733,10.352459016393443,12.301369863013699,8.5,6.966019417475728,9.724806201550388,9.724806201550388,10.874035989717223,9.724806201550388,6.966019417475728,9.875,7.933333333333334,12.301369863013699,9.496124031007753,7.933333333333334,13.774193548387096,10.352459016393443,9.724806201550388,8.86259541984733,9.496124031007753,6.197183098591549,9.496124031007753,12.301369863013699,6.966019417475728,8.5,10.352459016393443,9.724806201550388,9.724806201550388,10.874035989717223,9.496124031007753,9.875,6.966019417475728,10.874035989717223,10.874035989717223,12.301369863013699,9.724806201550388,12.245098039215685,15.959183673469388,10.930232558139535,9.724806201550388,12.301369863013699,7.933333333333334,10.874035989717223,8.86259541984733,13.774193548387096,9.724806201550388,12.245098039215685,12.245098039215685,10.874035989717223,15.959183673469388,12.301369863013699,10.874035989717223,8.5,6.966019417475728,16.41176470588235,10.874035989717223,12.245098039215685,10.874035989717223,7.933333333333334,10.874035989717223,8.5,9.496124031007753,10.874035989717223,10.874035989717223,10.352459016393443,9.496124031007753,9.724806201550388,16.41176470588235,10.874035989717223,13.774193548387096,6.966019417475728,7.85,9.875,12.245098039215685,12.301369863013699,8.5,10.874035989717223,10.874035989717223,10.874035989717223,5.875,8.86259541984733,8.789473684210526,10.874035989717223,10.874035989717223,9.496124031007753,3.2857142857142856,10.874035989717223,10.874035989717223,3.2857142857142856,12.245098039215685,15.137931034482758,9.496124031007753,10.352459016393443,9.875,10.874035989717223,9.724806201550388,8.86259541984733,10.874035989717223,9.724806201550388,12.301369863013699,6.966019417475728,6.966019417475728,15.137931034482758,9.496124031007753,9.724806201550388,9.496124031007753,6.966019417475728,8.86259541984733,6.966019417475728,6.966019417475728,8.5,7.933333333333334,10.874035989717223,12.301369863013699,10.930232558139535,9.496124031007753,9.875,8.5,7.85,8.86259541984733,12.301369863013699,4.615384615384615,6.197183098591549,10.874035989717223,10.352459016393443,8.5,9.724806201550388,9.496124031007753,13.774193548387096,15.137931034482758,9.724806201550388,12.245098039215685,9.724806201550388,9.724806201550388,12.301369863013699,8.86259541984733,8.86259541984733,4.25,16.41176470588235,9.724806201550388,12.301369863013699,10.874035989717223,12.301369863013699,7.933333333333334,9.724806201550388,10.874035989717223,9.724806201550388,9.724806201550388,10.352459016393443,12.301369863013699,6.966019417475728,8.5,7.933333333333334,6.966019417475728,12.245098039215685,15.137931034482758,9.724806201550388,12.301369863013699,4.25,10.874035989717223,12.301369863013699,15.137931034482758,8.86259541984733,6.197183098591549,9.724806201550388,10.874035989717223,9.496124031007753,9.724806201550388,9.724806201550388,6.966019417475728,5.285714285714286,12.301369863013699,9.724806201550388,8.86259541984733,6.197183098591549,9.496124031007753,7.933333333333334,9.724806201550388,9.496124031007753,6.197183098591549,8.5,10.352459016393443,9.875,7.933333333333334,6.966019417475728,15.959183673469388,9.496124031007753,12.245098039215685,4.25,10.874035989717223,9.724806201550388,15.959183673469388,7.933333333333334,10.352459016393443,9.724806201550388,8.5,5.285714285714286,8.86259541984733,9.496124031007753,10.874035989717223,5.0,10.874035989717223,6.966019417475728,7.4,6.966019417475728,8.86259541984733,9.724806201550388,8.86259541984733,10.352459016393443,9.724806201550388,10.874035989717223,6.966019417475728,10.352459016393443,9.724806201550388,9.496124031007753,7.933333333333334,10.874035989717223,12.301369863013699,8.5,12.301369863013699,10.874035989717223,7.933333333333334,10.352459016393443,10.352459016393443,12.301369863013699,10.874035989717223,9.724806201550388,8.5,7.933333333333334,9.875,12.301369863013699,9.875,10.874035989717223,12.245098039215685,9.724806201550388,10.874035989717223,7.933333333333334,7.85,4.25,9.875,8.5,8.5,6.966019417475728,6.197183098591549,9.496124031007753,15.959183673469388,9.724806201550388,7.933333333333334,12.245098039215685,7.85,9.724806201550388,6.966019417475728,10.874035989717223,9.496124031007753,12.301369863013699,6.966019417475728,12.245098039215685,12.245098039215685,9.875,12.301369863013699,6.966019417475728,6.966019417475728,6.966019417475728,6.197183098591549,9.724806201550388,7.933333333333334,12.245098039215685,9.724806201550388,8.5,10.874035989717223,10.874035989717223,9.496124031007753,9.724806201550388,10.352459016393443,10.352459016393443,9.724806201550388,9.875,10.930232558139535,12.301369863013699,6.966019417475728,10.874035989717223,15.959183673469388,6.966019417475728,8.5,10.874035989717223,10.874035989717223,15.959183673469388,12.245098039215685,10.874035989717223,10.352459016393443,6.966019417475728,9.724806201550388,10.352459016393443,12.301369863013699,16.41176470588235,9.496124031007753,12.245098039215685,10.874035989717223,8.86259541984733,9.875,13.774193548387096,5.285714285714286,8.5,10.874035989717223,10.874035989717223,9.724806201550388,9.496124031007753,6.966019417475728,12.301369863013699,8.5,12.245098039215685,6.966019417475728,12.301369863013699,9.724806201550388,15.959183673469388,12.301369863013699,10.874035989717223,12.301369863013699,6.966019417475728,10.874035989717223,8.86259541984733,6.966019417475728,8.86259541984733,6.966019417475728,10.874035989717223,6.197183098591549,15.959183673469388,8.86259541984733,10.930232558139535,8.86259541984733,8.86259541984733,12.301369863013699,12.301369863013699,10.874035989717223,9.724806201550388,10.874035989717223,12.245098039215685,6.197183098591549,7.933333333333334,6.966019417475728,12.245098039215685,9.724806201550388,10.352459016393443,7.85,10.874035989717223,10.352459016393443,10.874035989717223,12.301369863013699,9.496124031007753,7.85,4.25,5.285714285714286,5.875,12.785714285714286,8.86259541984733,9.724806201550388,8.5,6.966019417475728,8.5,5.875,15.959183673469388,12.785714285714286,10.874035989717223,9.724806201550388,10.874035989717223,15.959183673469388,10.874035989717223,7.933333333333334,12.301369863013699,7.933333333333334,12.301369863013699,10.352459016393443,10.352459016393443,12.245098039215685,10.874035989717223,9.724806201550388,9.724806201550388,8.86259541984733,10.874035989717223,6.966019417475728,9.875,6.966019417475728,16.41176470588235,9.875,10.352459016393443,12.245098039215685,10.352459016393443,6.966019417475728,10.874035989717223,6.966019417475728,7.933333333333334,6.197183098591549,15.137931034482758,10.874035989717223,6.966019417475728,12.301369863013699,10.874035989717223,12.301369863013699,4.25,9.875,12.301369863013699,9.724806201550388,9.724806201550388,4.25,10.874035989717223,7.933333333333334,8.86259541984733,12.301369863013699,10.874035989717223,8.86259541984733,12.301369863013699,12.245098039215685,12.301369863013699,20.0,9.724806201550388,15.959183673469388,12.301369863013699,10.874035989717223,10.874035989717223,8.5,8.86259541984733,7.0,6.197183098591549,12.245098039215685,9.496124031007753,4.615384615384615,8.86259541984733,15.959183673469388,10.874035989717223,6.966019417475728,9.724806201550388,10.352459016393443,9.496124031007753,10.874035989717223,9.724806201550388,6.197183098591549,12.245098039215685,8.789473684210526,9.496124031007753,12.301369863013699,8.5,7.933333333333334,5.285714285714286,9.724806201550388,15.959183673469388,10.874035989717223,5.285714285714286,4.615384615384615,10.874035989717223,10.874035989717223,8.5,10.352459016393443,10.874035989717223,10.352459016393443,8.86259541984733,10.352459016393443,6.966019417475728,8.86259541984733,10.874035989717223,12.245098039215685,6.966019417475728,5.875,4.25,9.724806201550388,9.724806201550388,10.874035989717223,8.5,12.301369863013699,13.774193548387096,9.496124031007753,7.933333333333334,10.874035989717223,10.874035989717223,10.874035989717223,9.875,10.352459016393443,6.197183098591549,10.874035989717223,6.966019417475728,10.874035989717223,5.875,6.966019417475728,9.724806201550388,9.875,6.966019417475728,8.86259541984733,12.245098039215685,10.874035989717223,8.86259541984733,9.724806201550388,9.496124031007753,9.724806201550388,15.137931034482758,8.86259541984733,10.874035989717223,6.966019417475728,9.875,12.245098039215685,10.874035989717223,8.86259541984733,8.86259541984733,15.959183673469388,9.875,6.966019417475728,6.966019417475728,10.874035989717223,8.86259541984733,12.301369863013699,9.496124031007753,8.5,10.874035989717223,6.966019417475728,12.301369863013699,6.966019417475728,9.724806201550388,6.966019417475728,9.724806201550388,6.966019417475728,7.85,12.301369863013699,10.930232558139535,10.874035989717223,6.966019417475728,8.86259541984733,8.86259541984733,15.137931034482758,12.245098039215685,10.874035989717223,10.874035989717223,12.301369863013699,7.933333333333334,9.875,7.933333333333334,10.930232558139535,12.245098039215685,12.245098039215685,8.86259541984733,10.874035989717223,9.724806201550388,6.966019417475728,9.496124031007753,9.875,6.966019417475728,10.930232558139535,9.724806201550388,12.245098039215685,15.137931034482758,9.875,5.875,9.724806201550388,8.86259541984733,9.724806201550388,13.774193548387096,8.5,9.724806201550388,12.301369863013699,12.301369863013699,7.933333333333334,9.724806201550388,7.933333333333334,9.496124031007753,12.301369863013699,12.301369863013699,6.966019417475728,6.966019417475728,8.86259541984733,9.724806201550388,6.966019417475728,15.959183673469388,12.245098039215685,10.874035989717223,8.789473684210526,10.874035989717223,5.875,6.966019417475728,12.301369863013699,10.874035989717223,10.874035989717223,12.245098039215685,12.245098039215685,8.86259541984733,9.496124031007753,6.966019417475728,9.724806201550388,12.301369863013699,8.86259541984733,12.301369863013699,8.86259541984733,5.875,15.959183673469388,12.301369863013699,10.874035989717223,9.724806201550388,8.5,6.966019417475728,15.959183673469388,7.933333333333334,6.966019417475728,6.966019417475728,10.874035989717223,8.86259541984733,6.197183098591549,12.301369863013699,9.496124031007753,6.197183098591549,10.352459016393443,7.933333333333334,10.352459016393443,10.874035989717223,15.959183673469388,9.724806201550388,8.86259541984733,8.5,4.25,8.5,7.933333333333334,9.724806201550388,15.137931034482758,5.875,10.874035989717223,10.874035989717223,9.724806201550388,10.874035989717223,13.774193548387096,10.874035989717223,8.86259541984733,15.959183673469388,4.25,6.966019417475728,6.197183098591549,15.137931034482758,6.966019417475728,10.874035989717223,9.496124031007753,12.301369863013699,10.874035989717223,10.930232558139535,10.352459016393443,9.724806201550388,12.301369863013699,7.933333333333334,9.496124031007753,8.5,9.724806201550388,6.197183098591549,7.933333333333334,9.496124031007753,6.197183098591549,15.959183673469388,7.933333333333334,16.41176470588235,6.966019417475728,12.301369863013699,10.874035989717223,10.874035989717223,7.85,10.930232558139535,6.966019417475728,9.724806201550388,8.86259541984733,15.137931034482758,10.930232558139535,12.245098039215685,12.301369863013699,10.874035989717223,12.245098039215685,8.86259541984733,10.874035989717223,8.789473684210526,7.933333333333334,10.874035989717223,9.724806201550388,10.352459016393443,12.245098039215685,9.724806201550388,9.724806201550388,9.724806201550388,6.966019417475728,8.5,3.2857142857142856,10.352459016393443,9.875,9.496124031007753,8.86259541984733,12.245098039215685,10.874035989717223,6.966019417475728,15.959183673469388,6.197183098591549,15.959183673469388,10.874035989717223,9.496124031007753,12.301369863013699,10.874035989717223,12.245098039215685,4.25,13.774193548387096,7.85,10.930232558139535,15.959183673469388,8.86259541984733,10.352459016393443,10.874035989717223,6.966019417475728,12.785714285714286,6.197183098591549,8.86259541984733,12.301369863013699,10.874035989717223,9.875,10.874035989717223,9.724806201550388,10.874035989717223,8.5,6.966019417475728,8.86259541984733,10.874035989717223,15.137931034482758,6.197183098591549,8.5,10.352459016393443,9.724806201550388,7.933333333333334,9.724806201550388,10.874035989717223,9.724806201550388,5.875,9.724806201550388,7.933333333333334,10.874035989717223,9.724806201550388,"
          ],
          "name": "stdout"
        }
      ]
    },
    {
      "cell_type": "code",
      "metadata": {
        "id": "ZWsTx0LPuqbO",
        "colab_type": "code",
        "colab": {}
      },
      "source": [
        ""
      ],
      "execution_count": null,
      "outputs": []
    }
  ]
}