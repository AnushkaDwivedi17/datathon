{
  "nbformat": 4,
  "nbformat_minor": 0,
  "metadata": {
    "colab": {
      "name": "linear-rgrsn-dl.ipynb",
      "provenance": [],
      "include_colab_link": true
    },
    "kernelspec": {
      "name": "python3",
      "display_name": "Python 3"
    }
  },
  "cells": [
    {
      "cell_type": "markdown",
      "metadata": {
        "id": "view-in-github",
        "colab_type": "text"
      },
      "source": [
        "<a href=\"https://colab.research.google.com/github/AnushkaDwivedi17/datathon/blob/master/linear_rgrsn_dl.ipynb\" target=\"_parent\"><img src=\"https://colab.research.google.com/assets/colab-badge.svg\" alt=\"Open In Colab\"/></a>"
      ]
    },
    {
      "cell_type": "code",
      "metadata": {
        "id": "US8WVmWDMCRL",
        "colab_type": "code",
        "colab": {
          "base_uri": "https://localhost:8080/",
          "height": 70
        },
        "outputId": "f896288f-2948-4550-da84-10aad438ea37"
      },
      "source": [
        "import pandas as pd\n",
        "import numpy as np\n",
        "import matplotlib.pyplot as plt\n",
        "import seaborn as sea"
      ],
      "execution_count": 7,
      "outputs": [
        {
          "output_type": "stream",
          "text": [
            "/usr/local/lib/python3.6/dist-packages/statsmodels/tools/_testing.py:19: FutureWarning: pandas.util.testing is deprecated. Use the functions in the public API at pandas.testing instead.\n",
            "  import pandas.util.testing as tm\n"
          ],
          "name": "stderr"
        }
      ]
    },
    {
      "cell_type": "code",
      "metadata": {
        "id": "vi1pILf5MhnD",
        "colab_type": "code",
        "colab": {}
      },
      "source": [
        "data  = pd.read_csv(\"https://raw.githubusercontent.com/dphi-official/Datasets/master/abalone_data/training_set_label.csv\" )"
      ],
      "execution_count": 2,
      "outputs": []
    },
    {
      "cell_type": "code",
      "metadata": {
        "id": "aEIqmyzFM3yq",
        "colab_type": "code",
        "colab": {
          "base_uri": "https://localhost:8080/",
          "height": 252
        },
        "outputId": "ab3b1aa9-3895-4f62-e3b6-8e63894f3645"
      },
      "source": [
        "data.head"
      ],
      "execution_count": 3,
      "outputs": [
        {
          "output_type": "execute_result",
          "data": {
            "text/plain": [
              "<bound method NDFrame.head of      Sex  Length  Diameter  ...  Viscera weight  Shell weight  Rings\n",
              "0      F   0.525     0.400  ...          0.1380        0.2080     10\n",
              "1      F   0.445     0.325  ...          0.1125        0.1400      9\n",
              "2      M   0.710     0.540  ...          0.2610        0.7800     18\n",
              "3      F   0.680     0.580  ...          0.4530        0.6000     19\n",
              "4      M   0.605     0.470  ...          0.2405        0.3450     12\n",
              "...   ..     ...       ...  ...             ...           ...    ...\n",
              "3127   M   0.415     0.315  ...          0.0870        0.0970      8\n",
              "3128   I   0.325     0.240  ...          0.0305        0.0540      8\n",
              "3129   M   0.565     0.455  ...          0.1830        0.2600     11\n",
              "3130   M   0.610     0.485  ...          0.2255        0.2865      9\n",
              "3131   F   0.655     0.505  ...          0.2745        0.4250     12\n",
              "\n",
              "[3132 rows x 9 columns]>"
            ]
          },
          "metadata": {
            "tags": []
          },
          "execution_count": 3
        }
      ]
    },
    {
      "cell_type": "code",
      "metadata": {
        "id": "xZiQhepYNc6Q",
        "colab_type": "code",
        "colab": {
          "base_uri": "https://localhost:8080/",
          "height": 284
        },
        "outputId": "162e12a5-7b04-4a78-ad0a-360a5f6ccd9f"
      },
      "source": [
        "data.describe()"
      ],
      "execution_count": 5,
      "outputs": [
        {
          "output_type": "execute_result",
          "data": {
            "text/html": [
              "<div>\n",
              "<style scoped>\n",
              "    .dataframe tbody tr th:only-of-type {\n",
              "        vertical-align: middle;\n",
              "    }\n",
              "\n",
              "    .dataframe tbody tr th {\n",
              "        vertical-align: top;\n",
              "    }\n",
              "\n",
              "    .dataframe thead th {\n",
              "        text-align: right;\n",
              "    }\n",
              "</style>\n",
              "<table border=\"1\" class=\"dataframe\">\n",
              "  <thead>\n",
              "    <tr style=\"text-align: right;\">\n",
              "      <th></th>\n",
              "      <th>Length</th>\n",
              "      <th>Diameter</th>\n",
              "      <th>Height</th>\n",
              "      <th>Whole weight</th>\n",
              "      <th>Shucked weight</th>\n",
              "      <th>Viscera weight</th>\n",
              "      <th>Shell weight</th>\n",
              "      <th>Rings</th>\n",
              "    </tr>\n",
              "  </thead>\n",
              "  <tbody>\n",
              "    <tr>\n",
              "      <th>count</th>\n",
              "      <td>3132.000000</td>\n",
              "      <td>3132.000000</td>\n",
              "      <td>3132.000000</td>\n",
              "      <td>3132.00000</td>\n",
              "      <td>3132.000000</td>\n",
              "      <td>3132.000000</td>\n",
              "      <td>3132.000000</td>\n",
              "      <td>3132.000000</td>\n",
              "    </tr>\n",
              "    <tr>\n",
              "      <th>mean</th>\n",
              "      <td>0.523707</td>\n",
              "      <td>0.407952</td>\n",
              "      <td>0.139277</td>\n",
              "      <td>0.82867</td>\n",
              "      <td>0.359229</td>\n",
              "      <td>0.180731</td>\n",
              "      <td>0.239159</td>\n",
              "      <td>9.947957</td>\n",
              "    </tr>\n",
              "    <tr>\n",
              "      <th>std</th>\n",
              "      <td>0.119891</td>\n",
              "      <td>0.099336</td>\n",
              "      <td>0.038991</td>\n",
              "      <td>0.49063</td>\n",
              "      <td>0.221946</td>\n",
              "      <td>0.109924</td>\n",
              "      <td>0.139040</td>\n",
              "      <td>3.230252</td>\n",
              "    </tr>\n",
              "    <tr>\n",
              "      <th>min</th>\n",
              "      <td>0.110000</td>\n",
              "      <td>0.090000</td>\n",
              "      <td>0.000000</td>\n",
              "      <td>0.00800</td>\n",
              "      <td>0.002500</td>\n",
              "      <td>0.000500</td>\n",
              "      <td>0.003000</td>\n",
              "      <td>2.000000</td>\n",
              "    </tr>\n",
              "    <tr>\n",
              "      <th>25%</th>\n",
              "      <td>0.450000</td>\n",
              "      <td>0.350000</td>\n",
              "      <td>0.115000</td>\n",
              "      <td>0.44150</td>\n",
              "      <td>0.185375</td>\n",
              "      <td>0.093375</td>\n",
              "      <td>0.130000</td>\n",
              "      <td>8.000000</td>\n",
              "    </tr>\n",
              "    <tr>\n",
              "      <th>50%</th>\n",
              "      <td>0.545000</td>\n",
              "      <td>0.425000</td>\n",
              "      <td>0.140000</td>\n",
              "      <td>0.79950</td>\n",
              "      <td>0.335500</td>\n",
              "      <td>0.170000</td>\n",
              "      <td>0.235000</td>\n",
              "      <td>10.000000</td>\n",
              "    </tr>\n",
              "    <tr>\n",
              "      <th>75%</th>\n",
              "      <td>0.615000</td>\n",
              "      <td>0.480000</td>\n",
              "      <td>0.165000</td>\n",
              "      <td>1.15300</td>\n",
              "      <td>0.499500</td>\n",
              "      <td>0.252500</td>\n",
              "      <td>0.330000</td>\n",
              "      <td>11.000000</td>\n",
              "    </tr>\n",
              "    <tr>\n",
              "      <th>max</th>\n",
              "      <td>0.815000</td>\n",
              "      <td>0.650000</td>\n",
              "      <td>0.515000</td>\n",
              "      <td>2.82550</td>\n",
              "      <td>1.488000</td>\n",
              "      <td>0.760000</td>\n",
              "      <td>1.005000</td>\n",
              "      <td>29.000000</td>\n",
              "    </tr>\n",
              "  </tbody>\n",
              "</table>\n",
              "</div>"
            ],
            "text/plain": [
              "            Length     Diameter  ...  Shell weight        Rings\n",
              "count  3132.000000  3132.000000  ...   3132.000000  3132.000000\n",
              "mean      0.523707     0.407952  ...      0.239159     9.947957\n",
              "std       0.119891     0.099336  ...      0.139040     3.230252\n",
              "min       0.110000     0.090000  ...      0.003000     2.000000\n",
              "25%       0.450000     0.350000  ...      0.130000     8.000000\n",
              "50%       0.545000     0.425000  ...      0.235000    10.000000\n",
              "75%       0.615000     0.480000  ...      0.330000    11.000000\n",
              "max       0.815000     0.650000  ...      1.005000    29.000000\n",
              "\n",
              "[8 rows x 8 columns]"
            ]
          },
          "metadata": {
            "tags": []
          },
          "execution_count": 5
        }
      ]
    },
    {
      "cell_type": "code",
      "metadata": {
        "id": "D4T20kHpQYjB",
        "colab_type": "code",
        "colab": {
          "base_uri": "https://localhost:8080/",
          "height": 286
        },
        "outputId": "7a74863d-5d18-4897-f7b4-f7c363897084"
      },
      "source": [
        "data.info()"
      ],
      "execution_count": 6,
      "outputs": [
        {
          "output_type": "stream",
          "text": [
            "<class 'pandas.core.frame.DataFrame'>\n",
            "RangeIndex: 3132 entries, 0 to 3131\n",
            "Data columns (total 9 columns):\n",
            " #   Column          Non-Null Count  Dtype  \n",
            "---  ------          --------------  -----  \n",
            " 0   Sex             3132 non-null   object \n",
            " 1   Length          3132 non-null   float64\n",
            " 2   Diameter        3132 non-null   float64\n",
            " 3   Height          3132 non-null   float64\n",
            " 4   Whole weight    3132 non-null   float64\n",
            " 5   Shucked weight  3132 non-null   float64\n",
            " 6   Viscera weight  3132 non-null   float64\n",
            " 7   Shell weight    3132 non-null   float64\n",
            " 8   Rings           3132 non-null   int64  \n",
            "dtypes: float64(7), int64(1), object(1)\n",
            "memory usage: 220.3+ KB\n"
          ],
          "name": "stdout"
        }
      ]
    },
    {
      "cell_type": "code",
      "metadata": {
        "id": "VgI3OA87mM8L",
        "colab_type": "code",
        "colab": {
          "base_uri": "https://localhost:8080/",
          "height": 185
        },
        "outputId": "202a50c9-3af2-4a01-843e-26cabb6159d6"
      },
      "source": [
        "data.isna().sum()"
      ],
      "execution_count": 8,
      "outputs": [
        {
          "output_type": "execute_result",
          "data": {
            "text/plain": [
              "Sex               0\n",
              "Length            0\n",
              "Diameter          0\n",
              "Height            0\n",
              "Whole weight      0\n",
              "Shucked weight    0\n",
              "Viscera weight    0\n",
              "Shell weight      0\n",
              "Rings             0\n",
              "dtype: int64"
            ]
          },
          "metadata": {
            "tags": []
          },
          "execution_count": 8
        }
      ]
    },
    {
      "cell_type": "code",
      "metadata": {
        "id": "m0KVeB-LmQpe",
        "colab_type": "code",
        "colab": {
          "base_uri": "https://localhost:8080/",
          "height": 356
        },
        "outputId": "2248ab3d-18f0-46da-f817-237827921abd"
      },
      "source": [
        "sea.heatmap(data.isna())"
      ],
      "execution_count": 9,
      "outputs": [
        {
          "output_type": "execute_result",
          "data": {
            "text/plain": [
              "<matplotlib.axes._subplots.AxesSubplot at 0x7ff43bf0ae48>"
            ]
          },
          "metadata": {
            "tags": []
          },
          "execution_count": 9
        },
        {
          "output_type": "display_data",
          "data": {
            "image/png": "[encoded data removed]",
            "text/plain": [
              "<Figure size 432x288 with 2 Axes>"
            ]
          },
          "metadata": {
            "tags": [],
            "needs_background": "light"
          }
        }
      ]
    },
    {
      "cell_type": "code",
      "metadata": {
        "id": "r9oBe89rmWan",
        "colab_type": "code",
        "colab": {
          "base_uri": "https://localhost:8080/",
          "height": 356
        },
        "outputId": "c4a4df8c-262d-454f-f193-0d3c17f05a9f"
      },
      "source": [
        "sea.heatmap(data.corr())"
      ],
      "execution_count": 10,
      "outputs": [
        {
          "output_type": "execute_result",
          "data": {
            "text/plain": [
              "<matplotlib.axes._subplots.AxesSubplot at 0x7ff43831ff98>"
            ]
          },
          "metadata": {
            "tags": []
          },
          "execution_count": 10
        },
        {
          "output_type": "display_data",
          "data": {
            "image/png": "[encoded data removed]",
            "text/plain": [
              "<Figure size 432x288 with 2 Axes>"
            ]
          },
          "metadata": {
            "tags": [],
            "needs_background": "light"
          }
        }
      ]
    },
    {
      "cell_type": "code",
      "metadata": {
        "id": "Zy9FYIHTmb6l",
        "colab_type": "code",
        "colab": {}
      },
      "source": [
        "data=pd.get_dummies(data)"
      ],
      "execution_count": 11,
      "outputs": []
    },
    {
      "cell_type": "code",
      "metadata": {
        "id": "jMwGCr_XmlZD",
        "colab_type": "code",
        "colab": {}
      },
      "source": [
        "x=data.drop('Rings', axis = 1)\n",
        "y=data.Rings"
      ],
      "execution_count": 12,
      "outputs": []
    },
    {
      "cell_type": "code",
      "metadata": {
        "id": "LGCt1PHMmvic",
        "colab_type": "code",
        "colab": {}
      },
      "source": [
        "from sklearn.model_selection import train_test_split\n",
        "x_tr,x_ts,y_tr,y_ts=train_test_split(x,y,test_size=0.3, random_state = 42)"
      ],
      "execution_count": 13,
      "outputs": []
    },
    {
      "cell_type": "code",
      "metadata": {
        "id": "jWk0RTMrm5yf",
        "colab_type": "code",
        "colab": {
          "base_uri": "https://localhost:8080/",
          "height": 34
        },
        "outputId": "e8fa35dc-55ff-4cfe-9731-5f7b6dace5c2"
      },
      "source": [
        "n_features = x.shape[1]\n",
        "print(n_features)"
      ],
      "execution_count": 14,
      "outputs": [
        {
          "output_type": "stream",
          "text": [
            "10\n"
          ],
          "name": "stdout"
        }
      ]
    },
    {
      "cell_type": "code",
      "metadata": {
        "id": "aDAa3mLPnB5c",
        "colab_type": "code",
        "colab": {}
      },
      "source": [
        "from tensorflow.keras import Sequential    # import Sequential from tensorflow.keras\n",
        "from tensorflow.keras.layers import Dense  # import Dense from tensorflow.keras.layers\n",
        "from numpy.random import seed     # seed helps you to fix the randomness in the neural network.  \n",
        "import tensorflow"
      ],
      "execution_count": 15,
      "outputs": []
    },
    {
      "cell_type": "code",
      "metadata": {
        "id": "eohfSULjnEkv",
        "colab_type": "code",
        "colab": {}
      },
      "source": [
        "model = Sequential()\n",
        "model.add(Dense(10, activation='relu', input_shape=(n_features,)))\n",
        "model.add(Dense(8, activation='relu'))\n",
        "model.add(Dense(1))"
      ],
      "execution_count": 16,
      "outputs": []
    },
    {
      "cell_type": "code",
      "metadata": {
        "id": "IV9vlymwnLG8",
        "colab_type": "code",
        "colab": {}
      },
      "source": [
        "from tensorflow.keras.optimizers import RMSprop\n",
        "optimizer = RMSprop(0.01)    # 0.01 is the learning rate"
      ],
      "execution_count": 17,
      "outputs": []
    },
    {
      "cell_type": "code",
      "metadata": {
        "id": "U5YE61RenQHT",
        "colab_type": "code",
        "colab": {}
      },
      "source": [
        "model.compile(loss='mean_squared_error',optimizer=optimizer)"
      ],
      "execution_count": 22,
      "outputs": []
    },
    {
      "cell_type": "code",
      "metadata": {
        "id": "HSpF_qKvnVz0",
        "colab_type": "code",
        "colab": {
          "base_uri": "https://localhost:8080/",
          "height": 370
        },
        "outputId": "4fd8d06e-0ca9-472e-d62e-a6550739cd4d"
      },
      "source": [
        "seed_value = 42\n",
        "seed(seed_value) \n",
        "# If you build the model with given parameters, set_random_seed will help you produce the same result on multiple execution\n",
        "\n",
        "import os\n",
        "os.environ['PYTHONHASHSEED']=str(seed_value)\n",
        "\n",
        "# 2. Set `python` built-in pseudo-random generator at a fixed value\n",
        "import random\n",
        "random.seed(seed_value)\n",
        "\n",
        "# 3. Set `numpy` pseudo-random generator at a fixed value\n",
        "import numpy as np\n",
        "np.random.seed(seed_value)\n",
        "# Recommended by Keras -------------------------------------------------------------------------------------\n",
        "\n",
        "\n",
        "# 4. Set the `tensorflow` pseudo-random generator at a fixed value\n",
        "tensorflow.random.set_seed(seed_value) \n",
        "model.fit(x_tr, y_tr, epochs=10, batch_size=30, verbose = 1)    # fit the model"
      ],
      "execution_count": 23,
      "outputs": [
        {
          "output_type": "stream",
          "text": [
            "Epoch 1/10\n",
            "74/74 [==============================] - 0s 893us/step - loss: 5.3295\n",
            "Epoch 2/10\n",
            "74/74 [==============================] - 0s 907us/step - loss: 5.3268\n",
            "Epoch 3/10\n",
            "74/74 [==============================] - 0s 1ms/step - loss: 5.2044\n",
            "Epoch 4/10\n",
            "74/74 [==============================] - 0s 872us/step - loss: 5.2293\n",
            "Epoch 5/10\n",
            "74/74 [==============================] - 0s 856us/step - loss: 5.1670\n",
            "Epoch 6/10\n",
            "74/74 [==============================] - 0s 892us/step - loss: 5.2166\n",
            "Epoch 7/10\n",
            "74/74 [==============================] - 0s 927us/step - loss: 5.0793\n",
            "Epoch 8/10\n",
            "74/74 [==============================] - 0s 883us/step - loss: 5.1244\n",
            "Epoch 9/10\n",
            "74/74 [==============================] - 0s 919us/step - loss: 5.0491\n",
            "Epoch 10/10\n",
            "74/74 [==============================] - 0s 935us/step - loss: 4.9349\n"
          ],
          "name": "stdout"
        },
        {
          "output_type": "execute_result",
          "data": {
            "text/plain": [
              "<tensorflow.python.keras.callbacks.History at 0x7ff3fd82ac50>"
            ]
          },
          "metadata": {
            "tags": []
          },
          "execution_count": 23
        }
      ]
    },
    {
      "cell_type": "code",
      "metadata": {
        "id": "dWiIcwN8nzoi",
        "colab_type": "code",
        "colab": {
          "base_uri": "https://localhost:8080/",
          "height": 50
        },
        "outputId": "46e5c39f-29ef-4ed3-8596-44479b94f240"
      },
      "source": [
        "model.evaluate(x_ts, y_ts)"
      ],
      "execution_count": 24,
      "outputs": [
        {
          "output_type": "stream",
          "text": [
            "30/30 [==============================] - 0s 787us/step - loss: 5.8742\n"
          ],
          "name": "stdout"
        },
        {
          "output_type": "execute_result",
          "data": {
            "text/plain": [
              "5.874225616455078"
            ]
          },
          "metadata": {
            "tags": []
          },
          "execution_count": 24
        }
      ]
    },
    {
      "cell_type": "markdown",
      "metadata": {
        "id": "Sq26NH4NoRCH",
        "colab_type": "text"
      },
      "source": [
        "Hyperparameter tuning"
      ]
    },
    {
      "cell_type": "code",
      "metadata": {
        "id": "aGiCNtpxoTon",
        "colab_type": "code",
        "colab": {
          "base_uri": "https://localhost:8080/",
          "height": 386
        },
        "outputId": "648d298d-f114-475c-b0f3-a0a373fe8056"
      },
      "source": [
        "###################### Complete example to check the performance of the model with different learning rates #######################################\n",
        "# define the model\n",
        "model = Sequential()\n",
        "model.add(Dense(10, activation='relu', input_shape=(n_features,)))\n",
        "model.add(Dense(8, activation='relu'))\n",
        "model.add(Dense(8, activation='relu'))\n",
        "model.add(Dense(1))\n",
        "\n",
        "optimizer = RMSprop(0.1)    # 0.1 is the learning rate\n",
        "model.compile(loss='mean_squared_error',optimizer=optimizer)    # compile the model\n",
        "\n",
        "# fit the model \n",
        "model.fit(x_tr, y_tr, epochs=10, batch_size=30, verbose = 1)\n",
        "\n",
        "# evaluate the model\n",
        "print('The MSE value is: ', model.evaluate(x_ts, y_ts))"
      ],
      "execution_count": 54,
      "outputs": [
        {
          "output_type": "stream",
          "text": [
            "Epoch 1/10\n",
            "74/74 [==============================] - 0s 948us/step - loss: 80.6223\n",
            "Epoch 2/10\n",
            "74/74 [==============================] - 0s 976us/step - loss: 12.0637\n",
            "Epoch 3/10\n",
            "74/74 [==============================] - 0s 956us/step - loss: 9.6890\n",
            "Epoch 4/10\n",
            "74/74 [==============================] - 0s 951us/step - loss: 8.8001\n",
            "Epoch 5/10\n",
            "74/74 [==============================] - 0s 956us/step - loss: 8.1177\n",
            "Epoch 6/10\n",
            "74/74 [==============================] - 0s 947us/step - loss: 8.2202\n",
            "Epoch 7/10\n",
            "74/74 [==============================] - 0s 947us/step - loss: 7.7371\n",
            "Epoch 8/10\n",
            "74/74 [==============================] - 0s 954us/step - loss: 7.1872\n",
            "Epoch 9/10\n",
            "74/74 [==============================] - 0s 962us/step - loss: 7.0492\n",
            "Epoch 10/10\n",
            "74/74 [==============================] - 0s 920us/step - loss: 6.7959\n",
            "30/30 [==============================] - 0s 968us/step - loss: 14.6046\n",
            "The MSE value is:  14.604585647583008\n"
          ],
          "name": "stdout"
        }
      ]
    },
    {
      "cell_type": "code",
      "metadata": {
        "id": "JbjPvGVvojEH",
        "colab_type": "code",
        "colab": {
          "base_uri": "https://localhost:8080/",
          "height": 1000
        },
        "outputId": "56b0a10e-8a93-4e46-86cf-a970574ec19b"
      },
      "source": [
        "learning_rate = 0.001       \n",
        "epochs = 50        # Replace ? with an integer\n",
        "optimizer = RMSprop(learning_rate)\n",
        "model.compile(loss='mean_squared_error',optimizer=optimizer)    # Compile the model\n",
        "model.fit(x_tr, y_tr, epochs=epochs, batch_size=50)       # Fit the model\n",
        "model.evaluate(x_ts, y_ts)  "
      ],
      "execution_count": 73,
      "outputs": [
        {
          "output_type": "stream",
          "text": [
            "Epoch 1/50\n",
            "44/44 [==============================] - 0s 1ms/step - loss: 4.7622\n",
            "Epoch 2/50\n",
            "44/44 [==============================] - 0s 1ms/step - loss: 4.7701\n",
            "Epoch 3/50\n",
            "44/44 [==============================] - 0s 1ms/step - loss: 4.7682\n",
            "Epoch 4/50\n",
            "44/44 [==============================] - 0s 959us/step - loss: 4.7701\n",
            "Epoch 5/50\n",
            "44/44 [==============================] - 0s 997us/step - loss: 4.7615\n",
            "Epoch 6/50\n",
            "44/44 [==============================] - 0s 1ms/step - loss: 4.7763\n",
            "Epoch 7/50\n",
            "44/44 [==============================] - 0s 948us/step - loss: 4.7648\n",
            "Epoch 8/50\n",
            "44/44 [==============================] - 0s 929us/step - loss: 4.7731\n",
            "Epoch 9/50\n",
            "44/44 [==============================] - 0s 927us/step - loss: 4.7689\n",
            "Epoch 10/50\n",
            "44/44 [==============================] - 0s 1ms/step - loss: 4.7688\n",
            "Epoch 11/50\n",
            "44/44 [==============================] - 0s 935us/step - loss: 4.7707\n",
            "Epoch 12/50\n",
            "44/44 [==============================] - 0s 937us/step - loss: 4.7645\n",
            "Epoch 13/50\n",
            "44/44 [==============================] - 0s 993us/step - loss: 4.7670\n",
            "Epoch 14/50\n",
            "44/44 [==============================] - 0s 929us/step - loss: 4.7700\n",
            "Epoch 15/50\n",
            "44/44 [==============================] - 0s 1ms/step - loss: 4.7674\n",
            "Epoch 16/50\n",
            "44/44 [==============================] - 0s 926us/step - loss: 4.7694\n",
            "Epoch 17/50\n",
            "44/44 [==============================] - 0s 954us/step - loss: 4.7679\n",
            "Epoch 18/50\n",
            "44/44 [==============================] - 0s 1ms/step - loss: 4.7731\n",
            "Epoch 19/50\n",
            "44/44 [==============================] - 0s 1ms/step - loss: 4.7659\n",
            "Epoch 20/50\n",
            "44/44 [==============================] - 0s 943us/step - loss: 4.7693\n",
            "Epoch 21/50\n",
            "44/44 [==============================] - 0s 969us/step - loss: 4.7654\n",
            "Epoch 22/50\n",
            "44/44 [==============================] - 0s 1ms/step - loss: 4.7664\n",
            "Epoch 23/50\n",
            "44/44 [==============================] - 0s 936us/step - loss: 4.7679\n",
            "Epoch 24/50\n",
            "44/44 [==============================] - 0s 926us/step - loss: 4.7690\n",
            "Epoch 25/50\n",
            "44/44 [==============================] - 0s 1ms/step - loss: 4.7685\n",
            "Epoch 26/50\n",
            "44/44 [==============================] - 0s 1ms/step - loss: 4.7661\n",
            "Epoch 27/50\n",
            "44/44 [==============================] - 0s 1ms/step - loss: 4.7620\n",
            "Epoch 28/50\n",
            "44/44 [==============================] - 0s 932us/step - loss: 4.7708\n",
            "Epoch 29/50\n",
            "44/44 [==============================] - 0s 955us/step - loss: 4.7667\n",
            "Epoch 30/50\n",
            "44/44 [==============================] - 0s 965us/step - loss: 4.7652\n",
            "Epoch 31/50\n",
            "44/44 [==============================] - 0s 979us/step - loss: 4.7646\n",
            "Epoch 32/50\n",
            "44/44 [==============================] - 0s 1ms/step - loss: 4.7697\n",
            "Epoch 33/50\n",
            "44/44 [==============================] - 0s 1ms/step - loss: 4.7713\n",
            "Epoch 34/50\n",
            "44/44 [==============================] - 0s 1ms/step - loss: 4.7607\n",
            "Epoch 35/50\n",
            "44/44 [==============================] - 0s 1ms/step - loss: 4.7745\n",
            "Epoch 36/50\n",
            "44/44 [==============================] - 0s 930us/step - loss: 4.7692\n",
            "Epoch 37/50\n",
            "44/44 [==============================] - 0s 1ms/step - loss: 4.7678\n",
            "Epoch 38/50\n",
            "44/44 [==============================] - 0s 980us/step - loss: 4.7694\n",
            "Epoch 39/50\n",
            "44/44 [==============================] - 0s 1ms/step - loss: 4.7682\n",
            "Epoch 40/50\n",
            "44/44 [==============================] - 0s 917us/step - loss: 4.7699\n",
            "Epoch 41/50\n",
            "44/44 [==============================] - 0s 947us/step - loss: 4.7650\n",
            "Epoch 42/50\n",
            "44/44 [==============================] - 0s 951us/step - loss: 4.7689\n",
            "Epoch 43/50\n",
            "44/44 [==============================] - 0s 1ms/step - loss: 4.7686\n",
            "Epoch 44/50\n",
            "44/44 [==============================] - 0s 981us/step - loss: 4.7689\n",
            "Epoch 45/50\n",
            "44/44 [==============================] - 0s 935us/step - loss: 4.7609\n",
            "Epoch 46/50\n",
            "44/44 [==============================] - 0s 932us/step - loss: 4.7647\n",
            "Epoch 47/50\n",
            "44/44 [==============================] - 0s 966us/step - loss: 4.7634\n",
            "Epoch 48/50\n",
            "44/44 [==============================] - 0s 932us/step - loss: 4.7674\n",
            "Epoch 49/50\n",
            "44/44 [==============================] - 0s 916us/step - loss: 4.7617\n",
            "Epoch 50/50\n",
            "44/44 [==============================] - 0s 923us/step - loss: 4.7666\n",
            "30/30 [==============================] - 0s 866us/step - loss: 4.7085\n"
          ],
          "name": "stdout"
        },
        {
          "output_type": "execute_result",
          "data": {
            "text/plain": [
              "4.708537578582764"
            ]
          },
          "metadata": {
            "tags": []
          },
          "execution_count": 73
        }
      ]
    },
    {
      "cell_type": "code",
      "metadata": {
        "id": "wDU7EGVuqNDp",
        "colab_type": "code",
        "colab": {
          "base_uri": "https://localhost:8080/",
          "height": 54
        },
        "outputId": "48f2723a-7744-47d5-d70c-37540946c2b4"
      },
      "source": [
        "test_data = pd.read_csv('https://raw.githubusercontent.com/dphi-official/Datasets/master/abalone_data/testing_set_label.csv')\n",
        "test_data=pd.get_dummies(test_data)\n",
        "tar=model.predict(test_data)\n",
        "for i in tar:\n",
        "  print(i[0],end=\",\")"
      ],
      "execution_count": 74,
      "outputs": [
        {
          "output_type": "stream",
          "text": [
            "9.798883,6.924064,7.3134313,12.297756,9.385026,12.711605,10.4951515,11.520469,10.4951515,9.2847805,10.4951515,11.07915,8.9823475,10.4951515,10.923193,10.796371,10.068738,7.0608892,5.5350432,10.799448,9.418603,13.2180805,10.525806,10.893513,12.331213,11.388077,11.665564,6.601899,11.511202,8.581881,9.563655,11.457589,11.389199,10.4951515,7.7054043,6.451602,12.997431,11.806629,10.4951515,9.71406,8.8470955,9.501793,6.4607987,12.07852,10.932482,23.245129,10.892751,11.042591,7.7232113,6.8674145,8.872448,10.783186,8.309409,9.166889,14.172825,14.938389,11.201809,6.5429916,6.8164277,9.449434,8.638985,11.4953575,4.689814,9.813496,9.711336,11.286259,10.911169,11.146864,10.617022,11.008455,11.331619,8.309843,12.570421,9.320808,10.522587,9.69858,7.360402,7.6300764,10.083292,10.152044,10.312317,6.094398,10.844941,9.8425865,7.501442,8.258425,12.515296,5.1326866,7.250574,12.917185,10.781089,11.875111,14.594757,8.734909,10.941095,10.4951515,9.518303,11.455788,10.239271,7.6554174,5.5393777,11.031246,12.777973,14.242945,7.618885,9.004013,10.524556,11.871145,10.17086,7.848449,4.5732884,6.9576364,7.1727214,8.597046,8.247673,8.276257,12.0019,11.417263,6.9092736,7.331878,8.245457,7.6312113,6.9988337,7.8831005,15.309395,7.351917,11.381214,7.625578,15.281256,14.495171,5.5044527,10.270805,9.287869,10.557519,5.6866884,8.956405,8.876877,9.005692,12.382051,8.918007,11.142046,11.677132,11.680848,9.495051,9.142811,11.211562,8.582708,11.526258,5.630594,10.4951515,12.963835,13.476461,8.41169,5.0378294,11.52137,11.107403,9.697926,11.176884,10.627619,9.510546,11.286184,9.545959,7.678533,9.704287,5.262187,7.3471513,9.373449,12.817476,6.7933493,11.593502,11.0788,8.576146,8.751519,9.171947,5.732204,10.961678,8.859395,11.878437,12.865982,12.610071,9.209624,9.782022,10.058907,7.9040484,12.246639,8.964272,8.507177,9.231472,9.907734,6.640832,7.868368,12.725771,10.008978,12.735996,13.618469,7.8746367,6.229066,10.477676,8.010963,9.77013,8.486568,9.304852,10.129751,7.4716945,13.354815,11.815464,9.351275,9.824348,9.2092,9.801678,14.828392,7.36014,6.820984,11.229948,10.4951515,9.752621,4.5732884,8.738026,8.663228,6.190264,10.039705,8.730755,10.177454,10.6185,10.656366,10.801891,9.363852,11.436494,10.720064,10.089008,11.618044,8.931328,11.314316,10.453934,7.0675945,12.085876,9.586946,6.8530693,7.465242,10.929489,6.3942795,9.339496,7.068476,14.510206,9.028442,13.451902,11.885115,7.161399,17.12593,12.769913,16.316704,11.636362,13.175892,11.11058,8.677345,10.0844555,10.62656,10.253504,10.611634,9.949654,7.909214,10.238184,12.983969,10.489542,9.728035,12.298584,13.399298,8.568945,5.788416,11.158367,10.285385,7.3414674,8.379894,9.231478,7.2592373,10.152998,8.573059,11.722087,13.972561,11.554461,10.812326,19.903587,9.08362,7.255966,12.971075,11.54248,6.0319057,12.328632,9.899019,12.552237,9.667383,10.4951515,8.055813,16.452856,9.178413,8.319626,8.961787,14.0655,10.4951515,11.584377,10.913555,10.49139,9.855921,7.4396563,5.914638,11.702028,9.663328,8.691603,12.583656,7.7513113,8.671371,6.3093987,11.20648,9.635338,9.172901,11.428057,8.105629,6.562209,9.200884,10.170708,9.658352,10.3086605,7.1843653,8.880718,7.243584,10.612059,10.630472,6.2847137,10.4951515,10.177909,10.72061,9.794374,10.612826,6.539789,10.097361,12.672049,8.028365,8.5244465,9.844976,8.828165,9.841785,11.576599,9.918917,9.688111,7.021265,10.3031025,10.743977,12.538082,11.439194,8.116851,16.94721,13.680712,9.870943,11.163242,8.848516,10.910297,9.701542,11.3120365,9.300682,11.984179,12.68939,10.908621,19.74759,13.076681,10.379349,9.110457,7.8094945,15.7285385,10.635975,12.18808,9.9450035,8.127513,6.358253,7.8483353,9.192461,10.303474,10.69888,9.500259,9.589765,9.674282,14.055885,10.900588,10.930197,7.136444,8.779327,9.335407,10.370279,10.871611,8.3265915,10.26782,9.856126,10.464273,6.718241,10.7067375,7.9010105,12.715147,12.207537,10.57071,4.5732884,11.7793255,11.930451,5.418245,12.684383,13.980871,10.487217,9.576843,9.513756,9.361502,8.603196,10.103685,10.4951515,8.762623,13.339554,8.111195,7.535557,20.305489,9.548537,8.69532,9.730492,7.5828447,10.4951515,7.6333137,6.4151454,8.673445,4.9634104,10.4951515,11.816446,10.178295,10.013741,10.002476,8.29491,6.939539,9.053475,11.9562,5.4932346,6.0649953,12.333914,9.268236,9.0174885,10.849863,9.838392,9.913908,15.920773,10.7885895,10.916328,8.858009,8.959864,12.11302,9.618366,9.70961,5.1310773,15.600519,9.1737385,11.636866,12.240421,10.4951515,7.68707,10.757288,9.741599,9.464733,10.481384,9.426752,11.24478,7.832023,8.374245,7.385247,7.43439,11.332933,15.941175,9.063129,12.806412,5.585928,10.580036,11.045317,13.363312,8.466311,6.9086304,9.741151,13.271175,8.778315,10.4951515,9.744247,7.0164557,5.372952,10.635246,9.129126,8.130866,6.0707397,9.663333,7.553502,10.030989,10.145424,7.411399,7.6869154,9.303444,8.923484,8.652268,6.649755,14.378561,8.777121,14.959604,4.860373,12.349573,9.796736,14.564014,7.817919,11.106594,9.192878,8.999132,5.139305,10.040592,9.51123,11.376615,5.983762,13.158331,7.1575985,5.880616,8.701664,9.83276,9.143198,8.82242,8.876138,10.4951515,11.407424,6.8013024,9.970972,8.825237,8.388486,7.8614783,10.284552,11.147394,8.297298,11.610758,10.5203905,8.075956,10.602682,8.893568,11.556633,11.063282,11.020178,8.626404,7.952003,9.465668,13.38348,8.367914,10.4951515,13.329582,9.892904,7.6236687,7.567254,7.1978474,5.9407697,9.360275,8.009777,8.809452,6.857616,6.267185,7.8713627,19.077833,10.012846,7.9709277,10.794899,8.998108,11.389597,6.8609447,10.4951515,9.341408,11.128727,7.822406,8.406811,12.534409,9.635151,10.763915,6.96275,7.3469467,6.839475,7.915701,11.382698,7.0727034,11.664986,7.931962,9.222267,10.156537,10.626026,9.125603,10.744331,10.380366,11.545532,10.007967,8.891731,12.368294,10.602923,6.5792923,10.677686,13.925661,7.0285006,8.915298,10.4951515,8.460284,17.878633,9.0690365,9.277401,10.862753,7.8827744,9.044282,10.346851,13.660263,14.107229,10.284136,10.189554,10.420034,8.1841755,9.249718,9.820202,5.6643424,8.440249,12.389967,10.684935,10.167797,10.4951515,7.777673,10.919465,8.327906,11.245432,7.428744,12.756184,8.389441,14.987379,10.545317,10.887138,12.015753,7.5180974,11.437993,9.279692,7.039971,9.190392,7.284634,12.597319,6.6364937,14.373648,8.531376,12.010458,9.116961,9.439711,11.020657,13.753441,12.034906,8.846828,10.148298,13.172394,6.53918,8.957834,6.9950857,12.17058,8.276561,9.349705,8.269445,9.739891,10.319889,12.486389,12.21125,10.084041,7.792839,6.357068,5.4757543,6.7029257,14.038904,10.4951515,9.880433,7.8203197,6.78494,8.24996,7.059122,14.153858,16.216711,12.970842,9.581701,12.070068,14.168955,10.80249,8.185698,10.867971,8.350555,12.46015,11.233557,10.458057,6.5364585,11.77084,10.4951515,10.624928,8.82574,11.358,7.7299395,10.323675,6.2762823,15.444799,9.946226,9.634121,13.129524,9.964302,7.791091,10.799873,8.85162,7.63511,6.263616,21.6409,10.183338,7.7976995,13.481604,9.37211,12.108898,5.0743766,10.233113,12.369129,7.5907993,10.105143,4.5732884,12.289688,8.594833,9.763367,12.161455,9.442921,7.189477,10.9133415,14.524946,13.036081,17.990646,10.009151,15.331036,12.495674,11.24868,8.865738,8.054417,10.01458,8.76107,7.40033,16.20691,9.298616,5.4470587,9.415263,13.448101,10.38666,6.868228,10.298311,9.333849,10.462509,11.692172,10.4951515,7.756171,13.645941,9.374678,9.9161005,12.815123,8.254927,7.651658,5.223093,10.47686,16.17752,9.88739,5.4974737,5.6073623,9.941347,11.449137,8.7602825,10.98884,10.4782505,10.020113,8.692338,8.391952,7.395778,8.087664,10.442854,16.269543,7.1780167,6.0888124,4.883029,8.8368225,9.334145,10.817953,8.366032,11.149,11.389557,9.251673,8.10897,11.911514,10.900201,12.784962,9.257551,8.738807,6.0970573,12.616957,8.200836,10.072432,6.1334476,6.770063,8.203685,9.515684,6.9938984,9.999926,13.974436,11.171416,8.475451,10.063305,10.3538685,11.371658,14.111555,8.888819,10.993719,6.93245,9.086861,14.298277,13.286257,7.902461,10.068916,13.610472,8.728585,6.6475916,6.48144,10.912069,8.177173,12.541134,9.268173,8.134041,11.701485,6.322414,12.46072,6.6777287,8.085122,7.5055923,9.8490715,7.9564486,7.3949738,10.960266,7.380062,11.207655,6.715061,9.08772,7.6413774,14.509802,10.427893,11.544224,11.812819,14.525156,8.188374,9.325851,7.7395434,11.762484,12.060047,12.336699,9.263252,10.857756,9.779734,8.334181,10.4951515,8.571329,7.6427493,10.636806,9.689814,13.153517,19.760471,9.828589,5.784014,10.222942,9.7638645,10.21978,12.513025,8.925421,8.96484,11.172068,12.15316,7.978792,9.895609,8.157933,8.141039,11.052921,13.25445,7.7556586,7.2047434,9.691753,10.077955,7.3924727,12.623617,11.142746,12.837437,8.526426,10.622894,5.9415503,6.877372,11.770079,10.271103,10.4951515,9.099578,14.651062,8.622846,9.674787,7.079765,9.871134,10.574148,7.8978434,13.137369,9.418912,6.2184505,13.959335,12.542021,11.987944,10.0143385,8.132059,8.172211,14.237846,9.844479,6.68752,6.778656,12.732256,7.547659,6.205326,12.232103,10.510059,7.1520023,10.4951515,7.548614,10.724537,10.393604,13.766684,9.956598,9.18202,8.362737,5.4077787,7.7135897,7.255087,11.636978,17.302622,7.042225,8.156343,12.448724,9.42572,12.024355,12.439438,11.27675,7.214416,12.224644,4.5732884,7.267442,7.318099,18.291027,7.9256806,11.12545,9.38455,12.258873,11.835011,12.345921,8.828613,10.881164,8.977434,8.797973,9.051043,7.5705557,10.322222,7.3253508,8.030424,8.540193,5.9918137,18.46024,8.682741,14.29203,8.010817,14.209961,11.546816,11.466347,9.678208,10.68965,7.839906,10.437862,9.484461,16.899376,12.578911,8.056575,12.705662,12.038382,10.997595,8.701305,12.753601,9.130919,8.160955,10.15414,9.398178,9.463501,13.4032345,10.314409,11.954212,11.264723,6.870577,9.060674,4.5732884,10.561605,9.458274,9.910547,10.456517,9.655697,11.591953,7.855424,13.55249,6.2300816,16.561232,9.776095,9.586541,11.778517,9.254185,11.4074955,5.6598153,12.129837,7.2083235,13.270971,15.168264,7.727263,8.910002,11.553732,7.513683,17.436413,7.58053,8.701395,11.53334,12.079418,8.81563,11.522768,8.014136,9.92798,8.757346,7.7104235,9.53422,11.691366,17.238226,7.1390944,8.636572,10.531534,9.251783,8.243269,9.497864,13.261749,11.186422,6.181368,8.143686,8.2675495,11.686131,9.007544,"
          ],
          "name": "stdout"
        }
      ]
    }
  ]
}